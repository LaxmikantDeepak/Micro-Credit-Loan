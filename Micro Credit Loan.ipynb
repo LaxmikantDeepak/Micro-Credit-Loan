{
 "cells": [
  {
   "cell_type": "markdown",
   "metadata": {
    "executionInfo": {
     "elapsed": 3207,
     "status": "ok",
     "timestamp": 1619521493380,
     "user": {
      "displayName": "laxmikant deepak",
      "photoUrl": "",
      "userId": "06864753657209095717"
     },
     "user_tz": -330
    },
    "id": "kzfLeDRphodL"
   },
   "source": [
    "# Import Library"
   ]
  },
  {
   "cell_type": "code",
   "execution_count": 6,
   "metadata": {
    "executionInfo": {
     "elapsed": 3215,
     "status": "ok",
     "timestamp": 1619521493377,
     "user": {
      "displayName": "laxmikant deepak",
      "photoUrl": "",
      "userId": "06864753657209095717"
     },
     "user_tz": -330
    },
    "id": "ZfgKIvuihGWd"
   },
   "outputs": [],
   "source": [
    "import numpy as np\n",
    "import pandas as pd\n",
    "import seaborn as sns\n",
    "import matplotlib.pyplot as plt\n",
    "from scipy.stats import zscore\n",
    "from sklearn.naive_bayes  import GaussianNB\n",
    "from sklearn.svm import SVC\n",
    "from sklearn.ensemble import RandomForestClassifier\n",
    "from sklearn.ensemble import AdaBoostClassifier\n",
    "from sklearn.preprocessing import MinMaxScaler\n",
    "from sklearn.model_selection import train_test_split,cross_val_score,GridSearchCV\n",
    "from sklearn.linear_model import LinearRegression\n",
    "from sklearn.metrics import mean_squared_error,mean_absolute_error,r2_score\n",
    "import joblib\n",
    "import warnings\n",
    "warnings.filterwarnings('ignore')"
   ]
  },
  {
   "cell_type": "code",
   "execution_count": 7,
   "metadata": {
    "colab": {
     "base_uri": "https://localhost:8080/"
    },
    "executionInfo": {
     "elapsed": 3198,
     "status": "ok",
     "timestamp": 1619521493381,
     "user": {
      "displayName": "laxmikant deepak",
      "photoUrl": "",
      "userId": "06864753657209095717"
     },
     "user_tz": -330
    },
    "id": "GCcR7qHEo5U_",
    "outputId": "e932dc13-505c-4057-8f14-f676c41405b1"
   },
   "outputs": [
    {
     "name": "stdout",
     "output_type": "stream",
     "text": [
      "Drive already mounted at /content/drive; to attempt to forcibly remount, call drive.mount(\"/content/drive\", force_remount=True).\n"
     ]
    }
   ],
   "source": [
    "from google.colab import drive\n",
    "drive.mount('/content/drive')"
   ]
  },
  {
   "cell_type": "code",
   "execution_count": 8,
   "metadata": {
    "executionInfo": {
     "elapsed": 3190,
     "status": "ok",
     "timestamp": 1619521493382,
     "user": {
      "displayName": "laxmikant deepak",
      "photoUrl": "",
      "userId": "06864753657209095717"
     },
     "user_tz": -330
    },
    "id": "_1rZIsPQmFU_"
   },
   "outputs": [],
   "source": [
    "mcred=pd.read_csv('/content/drive/MyDrive/Colab Notebooks/Data file.csv')"
   ]
  },
  {
   "cell_type": "code",
   "execution_count": 9,
   "metadata": {
    "colab": {
     "base_uri": "https://localhost:8080/",
     "height": 1000
    },
    "executionInfo": {
     "elapsed": 3168,
     "status": "ok",
     "timestamp": 1619521493391,
     "user": {
      "displayName": "laxmikant deepak",
      "photoUrl": "",
      "userId": "06864753657209095717"
     },
     "user_tz": -330
    },
    "id": "Ubxcb48dhGW0",
    "outputId": "53dae53f-fe8c-441c-baa2-985caed2c7af",
    "scrolled": true
   },
   "outputs": [
    {
     "data": {
      "text/html": [
       "<div>\n",
       "<style scoped>\n",
       "    .dataframe tbody tr th:only-of-type {\n",
       "        vertical-align: middle;\n",
       "    }\n",
       "\n",
       "    .dataframe tbody tr th {\n",
       "        vertical-align: top;\n",
       "    }\n",
       "\n",
       "    .dataframe thead th {\n",
       "        text-align: right;\n",
       "    }\n",
       "</style>\n",
       "<table border=\"1\" class=\"dataframe\">\n",
       "  <thead>\n",
       "    <tr style=\"text-align: right;\">\n",
       "      <th></th>\n",
       "      <th>0</th>\n",
       "      <th>1</th>\n",
       "      <th>2</th>\n",
       "      <th>3</th>\n",
       "      <th>4</th>\n",
       "      <th>5</th>\n",
       "      <th>6</th>\n",
       "      <th>7</th>\n",
       "      <th>8</th>\n",
       "      <th>9</th>\n",
       "    </tr>\n",
       "  </thead>\n",
       "  <tbody>\n",
       "    <tr>\n",
       "      <th>Unnamed: 0</th>\n",
       "      <td>1</td>\n",
       "      <td>2</td>\n",
       "      <td>3</td>\n",
       "      <td>4</td>\n",
       "      <td>5</td>\n",
       "      <td>6</td>\n",
       "      <td>7</td>\n",
       "      <td>8</td>\n",
       "      <td>9</td>\n",
       "      <td>10</td>\n",
       "    </tr>\n",
       "    <tr>\n",
       "      <th>label</th>\n",
       "      <td>0</td>\n",
       "      <td>1</td>\n",
       "      <td>1</td>\n",
       "      <td>1</td>\n",
       "      <td>1</td>\n",
       "      <td>1</td>\n",
       "      <td>1</td>\n",
       "      <td>1</td>\n",
       "      <td>1</td>\n",
       "      <td>1</td>\n",
       "    </tr>\n",
       "    <tr>\n",
       "      <th>msisdn</th>\n",
       "      <td>21408I70789</td>\n",
       "      <td>76462I70374</td>\n",
       "      <td>17943I70372</td>\n",
       "      <td>55773I70781</td>\n",
       "      <td>03813I82730</td>\n",
       "      <td>35819I70783</td>\n",
       "      <td>96759I84459</td>\n",
       "      <td>09832I90846</td>\n",
       "      <td>59772I84450</td>\n",
       "      <td>56331I70783</td>\n",
       "    </tr>\n",
       "    <tr>\n",
       "      <th>aon</th>\n",
       "      <td>272</td>\n",
       "      <td>712</td>\n",
       "      <td>535</td>\n",
       "      <td>241</td>\n",
       "      <td>947</td>\n",
       "      <td>568</td>\n",
       "      <td>545</td>\n",
       "      <td>768</td>\n",
       "      <td>1191</td>\n",
       "      <td>536</td>\n",
       "    </tr>\n",
       "    <tr>\n",
       "      <th>daily_decr30</th>\n",
       "      <td>3055.05</td>\n",
       "      <td>12122</td>\n",
       "      <td>1398</td>\n",
       "      <td>21.228</td>\n",
       "      <td>150.619</td>\n",
       "      <td>2257.36</td>\n",
       "      <td>2876.64</td>\n",
       "      <td>12905</td>\n",
       "      <td>90.695</td>\n",
       "      <td>29.3573</td>\n",
       "    </tr>\n",
       "    <tr>\n",
       "      <th>daily_decr90</th>\n",
       "      <td>3065.15</td>\n",
       "      <td>12124.8</td>\n",
       "      <td>1398</td>\n",
       "      <td>21.228</td>\n",
       "      <td>150.619</td>\n",
       "      <td>2261.46</td>\n",
       "      <td>2883.97</td>\n",
       "      <td>17804.2</td>\n",
       "      <td>90.695</td>\n",
       "      <td>29.3573</td>\n",
       "    </tr>\n",
       "    <tr>\n",
       "      <th>rental30</th>\n",
       "      <td>220.13</td>\n",
       "      <td>3691.26</td>\n",
       "      <td>900.13</td>\n",
       "      <td>159.42</td>\n",
       "      <td>1098.9</td>\n",
       "      <td>368.13</td>\n",
       "      <td>335.75</td>\n",
       "      <td>900.35</td>\n",
       "      <td>2287.5</td>\n",
       "      <td>612.96</td>\n",
       "    </tr>\n",
       "    <tr>\n",
       "      <th>rental90</th>\n",
       "      <td>260.13</td>\n",
       "      <td>3691.26</td>\n",
       "      <td>900.13</td>\n",
       "      <td>159.42</td>\n",
       "      <td>1098.9</td>\n",
       "      <td>380.13</td>\n",
       "      <td>402.9</td>\n",
       "      <td>2549.11</td>\n",
       "      <td>2287.5</td>\n",
       "      <td>612.96</td>\n",
       "    </tr>\n",
       "    <tr>\n",
       "      <th>last_rech_date_ma</th>\n",
       "      <td>2</td>\n",
       "      <td>20</td>\n",
       "      <td>3</td>\n",
       "      <td>41</td>\n",
       "      <td>4</td>\n",
       "      <td>2</td>\n",
       "      <td>13</td>\n",
       "      <td>4</td>\n",
       "      <td>1</td>\n",
       "      <td>11</td>\n",
       "    </tr>\n",
       "    <tr>\n",
       "      <th>last_rech_date_da</th>\n",
       "      <td>0</td>\n",
       "      <td>0</td>\n",
       "      <td>0</td>\n",
       "      <td>0</td>\n",
       "      <td>0</td>\n",
       "      <td>0</td>\n",
       "      <td>0</td>\n",
       "      <td>55</td>\n",
       "      <td>0</td>\n",
       "      <td>0</td>\n",
       "    </tr>\n",
       "    <tr>\n",
       "      <th>last_rech_amt_ma</th>\n",
       "      <td>1539</td>\n",
       "      <td>5787</td>\n",
       "      <td>1539</td>\n",
       "      <td>947</td>\n",
       "      <td>2309</td>\n",
       "      <td>1539</td>\n",
       "      <td>5787</td>\n",
       "      <td>3178</td>\n",
       "      <td>1539</td>\n",
       "      <td>773</td>\n",
       "    </tr>\n",
       "    <tr>\n",
       "      <th>cnt_ma_rech30</th>\n",
       "      <td>2</td>\n",
       "      <td>1</td>\n",
       "      <td>1</td>\n",
       "      <td>0</td>\n",
       "      <td>7</td>\n",
       "      <td>4</td>\n",
       "      <td>1</td>\n",
       "      <td>3</td>\n",
       "      <td>4</td>\n",
       "      <td>1</td>\n",
       "    </tr>\n",
       "    <tr>\n",
       "      <th>fr_ma_rech30</th>\n",
       "      <td>21</td>\n",
       "      <td>0</td>\n",
       "      <td>0</td>\n",
       "      <td>0</td>\n",
       "      <td>2</td>\n",
       "      <td>10</td>\n",
       "      <td>0</td>\n",
       "      <td>3</td>\n",
       "      <td>1</td>\n",
       "      <td>0</td>\n",
       "    </tr>\n",
       "    <tr>\n",
       "      <th>sumamnt_ma_rech30</th>\n",
       "      <td>3078</td>\n",
       "      <td>5787</td>\n",
       "      <td>1539</td>\n",
       "      <td>0</td>\n",
       "      <td>20029</td>\n",
       "      <td>6156</td>\n",
       "      <td>5787</td>\n",
       "      <td>10404</td>\n",
       "      <td>6164</td>\n",
       "      <td>773</td>\n",
       "    </tr>\n",
       "    <tr>\n",
       "      <th>medianamnt_ma_rech30</th>\n",
       "      <td>1539</td>\n",
       "      <td>5787</td>\n",
       "      <td>1539</td>\n",
       "      <td>0</td>\n",
       "      <td>2309</td>\n",
       "      <td>1539</td>\n",
       "      <td>5787</td>\n",
       "      <td>3178</td>\n",
       "      <td>1539</td>\n",
       "      <td>773</td>\n",
       "    </tr>\n",
       "    <tr>\n",
       "      <th>medianmarechprebal30</th>\n",
       "      <td>7.5</td>\n",
       "      <td>61.04</td>\n",
       "      <td>66.32</td>\n",
       "      <td>0</td>\n",
       "      <td>29</td>\n",
       "      <td>15.4</td>\n",
       "      <td>277.8</td>\n",
       "      <td>36</td>\n",
       "      <td>39.9</td>\n",
       "      <td>86.8</td>\n",
       "    </tr>\n",
       "    <tr>\n",
       "      <th>cnt_ma_rech90</th>\n",
       "      <td>2</td>\n",
       "      <td>1</td>\n",
       "      <td>1</td>\n",
       "      <td>1</td>\n",
       "      <td>8</td>\n",
       "      <td>8</td>\n",
       "      <td>1</td>\n",
       "      <td>9</td>\n",
       "      <td>4</td>\n",
       "      <td>1</td>\n",
       "    </tr>\n",
       "    <tr>\n",
       "      <th>fr_ma_rech90</th>\n",
       "      <td>21</td>\n",
       "      <td>0</td>\n",
       "      <td>0</td>\n",
       "      <td>0</td>\n",
       "      <td>2</td>\n",
       "      <td>0</td>\n",
       "      <td>0</td>\n",
       "      <td>3</td>\n",
       "      <td>1</td>\n",
       "      <td>0</td>\n",
       "    </tr>\n",
       "    <tr>\n",
       "      <th>sumamnt_ma_rech90</th>\n",
       "      <td>3078</td>\n",
       "      <td>5787</td>\n",
       "      <td>1539</td>\n",
       "      <td>947</td>\n",
       "      <td>23496</td>\n",
       "      <td>11744</td>\n",
       "      <td>5787</td>\n",
       "      <td>26095</td>\n",
       "      <td>6164</td>\n",
       "      <td>773</td>\n",
       "    </tr>\n",
       "    <tr>\n",
       "      <th>medianamnt_ma_rech90</th>\n",
       "      <td>1539</td>\n",
       "      <td>5787</td>\n",
       "      <td>1539</td>\n",
       "      <td>947</td>\n",
       "      <td>2888</td>\n",
       "      <td>1539</td>\n",
       "      <td>5787</td>\n",
       "      <td>3178</td>\n",
       "      <td>1539</td>\n",
       "      <td>773</td>\n",
       "    </tr>\n",
       "    <tr>\n",
       "      <th>medianmarechprebal90</th>\n",
       "      <td>7.5</td>\n",
       "      <td>61.04</td>\n",
       "      <td>66.32</td>\n",
       "      <td>2.5</td>\n",
       "      <td>35</td>\n",
       "      <td>55.9</td>\n",
       "      <td>277.8</td>\n",
       "      <td>36</td>\n",
       "      <td>39.9</td>\n",
       "      <td>86.8</td>\n",
       "    </tr>\n",
       "    <tr>\n",
       "      <th>cnt_da_rech30</th>\n",
       "      <td>0</td>\n",
       "      <td>0</td>\n",
       "      <td>0</td>\n",
       "      <td>0</td>\n",
       "      <td>0</td>\n",
       "      <td>0</td>\n",
       "      <td>0</td>\n",
       "      <td>0</td>\n",
       "      <td>0</td>\n",
       "      <td>0</td>\n",
       "    </tr>\n",
       "    <tr>\n",
       "      <th>fr_da_rech30</th>\n",
       "      <td>0</td>\n",
       "      <td>0</td>\n",
       "      <td>0</td>\n",
       "      <td>0</td>\n",
       "      <td>0</td>\n",
       "      <td>0</td>\n",
       "      <td>0</td>\n",
       "      <td>0</td>\n",
       "      <td>0</td>\n",
       "      <td>0</td>\n",
       "    </tr>\n",
       "    <tr>\n",
       "      <th>cnt_da_rech90</th>\n",
       "      <td>0</td>\n",
       "      <td>0</td>\n",
       "      <td>0</td>\n",
       "      <td>0</td>\n",
       "      <td>0</td>\n",
       "      <td>0</td>\n",
       "      <td>0</td>\n",
       "      <td>1</td>\n",
       "      <td>0</td>\n",
       "      <td>0</td>\n",
       "    </tr>\n",
       "    <tr>\n",
       "      <th>fr_da_rech90</th>\n",
       "      <td>0</td>\n",
       "      <td>0</td>\n",
       "      <td>0</td>\n",
       "      <td>0</td>\n",
       "      <td>0</td>\n",
       "      <td>0</td>\n",
       "      <td>0</td>\n",
       "      <td>0</td>\n",
       "      <td>0</td>\n",
       "      <td>0</td>\n",
       "    </tr>\n",
       "    <tr>\n",
       "      <th>cnt_loans30</th>\n",
       "      <td>2</td>\n",
       "      <td>1</td>\n",
       "      <td>1</td>\n",
       "      <td>2</td>\n",
       "      <td>7</td>\n",
       "      <td>3</td>\n",
       "      <td>1</td>\n",
       "      <td>3</td>\n",
       "      <td>4</td>\n",
       "      <td>1</td>\n",
       "    </tr>\n",
       "    <tr>\n",
       "      <th>amnt_loans30</th>\n",
       "      <td>12</td>\n",
       "      <td>12</td>\n",
       "      <td>6</td>\n",
       "      <td>12</td>\n",
       "      <td>42</td>\n",
       "      <td>18</td>\n",
       "      <td>6</td>\n",
       "      <td>18</td>\n",
       "      <td>24</td>\n",
       "      <td>6</td>\n",
       "    </tr>\n",
       "    <tr>\n",
       "      <th>maxamnt_loans30</th>\n",
       "      <td>6</td>\n",
       "      <td>12</td>\n",
       "      <td>6</td>\n",
       "      <td>6</td>\n",
       "      <td>6</td>\n",
       "      <td>6</td>\n",
       "      <td>6</td>\n",
       "      <td>6</td>\n",
       "      <td>6</td>\n",
       "      <td>6</td>\n",
       "    </tr>\n",
       "    <tr>\n",
       "      <th>medianamnt_loans30</th>\n",
       "      <td>0</td>\n",
       "      <td>0</td>\n",
       "      <td>0</td>\n",
       "      <td>0</td>\n",
       "      <td>0</td>\n",
       "      <td>0</td>\n",
       "      <td>0</td>\n",
       "      <td>0</td>\n",
       "      <td>0</td>\n",
       "      <td>0</td>\n",
       "    </tr>\n",
       "    <tr>\n",
       "      <th>cnt_loans90</th>\n",
       "      <td>2</td>\n",
       "      <td>1</td>\n",
       "      <td>1</td>\n",
       "      <td>2</td>\n",
       "      <td>7</td>\n",
       "      <td>3</td>\n",
       "      <td>1</td>\n",
       "      <td>7</td>\n",
       "      <td>4</td>\n",
       "      <td>1</td>\n",
       "    </tr>\n",
       "    <tr>\n",
       "      <th>amnt_loans90</th>\n",
       "      <td>12</td>\n",
       "      <td>12</td>\n",
       "      <td>6</td>\n",
       "      <td>12</td>\n",
       "      <td>42</td>\n",
       "      <td>18</td>\n",
       "      <td>6</td>\n",
       "      <td>42</td>\n",
       "      <td>24</td>\n",
       "      <td>6</td>\n",
       "    </tr>\n",
       "    <tr>\n",
       "      <th>maxamnt_loans90</th>\n",
       "      <td>6</td>\n",
       "      <td>12</td>\n",
       "      <td>6</td>\n",
       "      <td>6</td>\n",
       "      <td>6</td>\n",
       "      <td>6</td>\n",
       "      <td>6</td>\n",
       "      <td>6</td>\n",
       "      <td>6</td>\n",
       "      <td>6</td>\n",
       "    </tr>\n",
       "    <tr>\n",
       "      <th>medianamnt_loans90</th>\n",
       "      <td>0</td>\n",
       "      <td>0</td>\n",
       "      <td>0</td>\n",
       "      <td>0</td>\n",
       "      <td>0</td>\n",
       "      <td>0</td>\n",
       "      <td>0</td>\n",
       "      <td>0</td>\n",
       "      <td>0</td>\n",
       "      <td>0</td>\n",
       "    </tr>\n",
       "    <tr>\n",
       "      <th>payback30</th>\n",
       "      <td>29</td>\n",
       "      <td>0</td>\n",
       "      <td>0</td>\n",
       "      <td>0</td>\n",
       "      <td>2.33333</td>\n",
       "      <td>11</td>\n",
       "      <td>0</td>\n",
       "      <td>6</td>\n",
       "      <td>2.66667</td>\n",
       "      <td>0</td>\n",
       "    </tr>\n",
       "    <tr>\n",
       "      <th>payback90</th>\n",
       "      <td>29</td>\n",
       "      <td>0</td>\n",
       "      <td>0</td>\n",
       "      <td>0</td>\n",
       "      <td>2.33333</td>\n",
       "      <td>8.33333</td>\n",
       "      <td>0</td>\n",
       "      <td>3.85714</td>\n",
       "      <td>2.66667</td>\n",
       "      <td>0</td>\n",
       "    </tr>\n",
       "    <tr>\n",
       "      <th>pcircle</th>\n",
       "      <td>UPW</td>\n",
       "      <td>UPW</td>\n",
       "      <td>UPW</td>\n",
       "      <td>UPW</td>\n",
       "      <td>UPW</td>\n",
       "      <td>UPW</td>\n",
       "      <td>UPW</td>\n",
       "      <td>UPW</td>\n",
       "      <td>UPW</td>\n",
       "      <td>UPW</td>\n",
       "    </tr>\n",
       "    <tr>\n",
       "      <th>pdate</th>\n",
       "      <td>2016-07-20</td>\n",
       "      <td>2016-08-10</td>\n",
       "      <td>2016-08-19</td>\n",
       "      <td>2016-06-06</td>\n",
       "      <td>2016-06-22</td>\n",
       "      <td>2016-07-02</td>\n",
       "      <td>2016-07-05</td>\n",
       "      <td>2016-08-05</td>\n",
       "      <td>2016-06-15</td>\n",
       "      <td>2016-06-08</td>\n",
       "    </tr>\n",
       "  </tbody>\n",
       "</table>\n",
       "</div>"
      ],
      "text/plain": [
       "                                0            1  ...            8            9\n",
       "Unnamed: 0                      1            2  ...            9           10\n",
       "label                           0            1  ...            1            1\n",
       "msisdn                21408I70789  76462I70374  ...  59772I84450  56331I70783\n",
       "aon                           272          712  ...         1191          536\n",
       "daily_decr30              3055.05        12122  ...       90.695      29.3573\n",
       "daily_decr90              3065.15      12124.8  ...       90.695      29.3573\n",
       "rental30                   220.13      3691.26  ...       2287.5       612.96\n",
       "rental90                   260.13      3691.26  ...       2287.5       612.96\n",
       "last_rech_date_ma               2           20  ...            1           11\n",
       "last_rech_date_da               0            0  ...            0            0\n",
       "last_rech_amt_ma             1539         5787  ...         1539          773\n",
       "cnt_ma_rech30                   2            1  ...            4            1\n",
       "fr_ma_rech30                   21            0  ...            1            0\n",
       "sumamnt_ma_rech30            3078         5787  ...         6164          773\n",
       "medianamnt_ma_rech30         1539         5787  ...         1539          773\n",
       "medianmarechprebal30          7.5        61.04  ...         39.9         86.8\n",
       "cnt_ma_rech90                   2            1  ...            4            1\n",
       "fr_ma_rech90                   21            0  ...            1            0\n",
       "sumamnt_ma_rech90            3078         5787  ...         6164          773\n",
       "medianamnt_ma_rech90         1539         5787  ...         1539          773\n",
       "medianmarechprebal90          7.5        61.04  ...         39.9         86.8\n",
       "cnt_da_rech30                   0            0  ...            0            0\n",
       "fr_da_rech30                    0            0  ...            0            0\n",
       "cnt_da_rech90                   0            0  ...            0            0\n",
       "fr_da_rech90                    0            0  ...            0            0\n",
       "cnt_loans30                     2            1  ...            4            1\n",
       "amnt_loans30                   12           12  ...           24            6\n",
       "maxamnt_loans30                 6           12  ...            6            6\n",
       "medianamnt_loans30              0            0  ...            0            0\n",
       "cnt_loans90                     2            1  ...            4            1\n",
       "amnt_loans90                   12           12  ...           24            6\n",
       "maxamnt_loans90                 6           12  ...            6            6\n",
       "medianamnt_loans90              0            0  ...            0            0\n",
       "payback30                      29            0  ...      2.66667            0\n",
       "payback90                      29            0  ...      2.66667            0\n",
       "pcircle                       UPW          UPW  ...          UPW          UPW\n",
       "pdate                  2016-07-20   2016-08-10  ...   2016-06-15   2016-06-08\n",
       "\n",
       "[37 rows x 10 columns]"
      ]
     },
     "execution_count": 9,
     "metadata": {
      "tags": []
     },
     "output_type": "execute_result"
    }
   ],
   "source": [
    "mcred.head(10).T"
   ]
  },
  {
   "cell_type": "markdown",
   "metadata": {},
   "source": [
    "## EDA"
   ]
  },
  {
   "cell_type": "code",
   "execution_count": 10,
   "metadata": {
    "colab": {
     "base_uri": "https://localhost:8080/"
    },
    "executionInfo": {
     "elapsed": 3152,
     "status": "ok",
     "timestamp": 1619521493392,
     "user": {
      "displayName": "laxmikant deepak",
      "photoUrl": "",
      "userId": "06864753657209095717"
     },
     "user_tz": -330
    },
    "id": "7AnWO2PxhGW2",
    "outputId": "844d4a3a-924e-42c0-976b-f0a06fb66b7b"
   },
   "outputs": [
    {
     "data": {
      "text/plain": [
       "Index(['Unnamed: 0', 'label', 'msisdn', 'aon', 'daily_decr30', 'daily_decr90',\n",
       "       'rental30', 'rental90', 'last_rech_date_ma', 'last_rech_date_da',\n",
       "       'last_rech_amt_ma', 'cnt_ma_rech30', 'fr_ma_rech30',\n",
       "       'sumamnt_ma_rech30', 'medianamnt_ma_rech30', 'medianmarechprebal30',\n",
       "       'cnt_ma_rech90', 'fr_ma_rech90', 'sumamnt_ma_rech90',\n",
       "       'medianamnt_ma_rech90', 'medianmarechprebal90', 'cnt_da_rech30',\n",
       "       'fr_da_rech30', 'cnt_da_rech90', 'fr_da_rech90', 'cnt_loans30',\n",
       "       'amnt_loans30', 'maxamnt_loans30', 'medianamnt_loans30', 'cnt_loans90',\n",
       "       'amnt_loans90', 'maxamnt_loans90', 'medianamnt_loans90', 'payback30',\n",
       "       'payback90', 'pcircle', 'pdate'],\n",
       "      dtype='object')"
      ]
     },
     "execution_count": 10,
     "metadata": {
      "tags": []
     },
     "output_type": "execute_result"
    }
   ],
   "source": [
    "mcred.keys()"
   ]
  },
  {
   "cell_type": "code",
   "execution_count": 11,
   "metadata": {
    "colab": {
     "base_uri": "https://localhost:8080/"
    },
    "executionInfo": {
     "elapsed": 4745,
     "status": "ok",
     "timestamp": 1619521494997,
     "user": {
      "displayName": "laxmikant deepak",
      "photoUrl": "",
      "userId": "06864753657209095717"
     },
     "user_tz": -330
    },
    "id": "1K41toNChGW7",
    "outputId": "5f0b99d3-128b-46cf-a4d9-73c3245da70c"
   },
   "outputs": [
    {
     "name": "stdout",
     "output_type": "stream",
     "text": [
      "<class 'pandas.core.frame.DataFrame'>\n",
      "RangeIndex: 209593 entries, 0 to 209592\n",
      "Data columns (total 37 columns):\n",
      " #   Column                Non-Null Count   Dtype  \n",
      "---  ------                --------------   -----  \n",
      " 0   Unnamed: 0            209593 non-null  int64  \n",
      " 1   label                 209593 non-null  int64  \n",
      " 2   msisdn                209593 non-null  object \n",
      " 3   aon                   209593 non-null  float64\n",
      " 4   daily_decr30          209593 non-null  float64\n",
      " 5   daily_decr90          209593 non-null  float64\n",
      " 6   rental30              209593 non-null  float64\n",
      " 7   rental90              209593 non-null  float64\n",
      " 8   last_rech_date_ma     209593 non-null  float64\n",
      " 9   last_rech_date_da     209593 non-null  float64\n",
      " 10  last_rech_amt_ma      209593 non-null  int64  \n",
      " 11  cnt_ma_rech30         209593 non-null  int64  \n",
      " 12  fr_ma_rech30          209593 non-null  float64\n",
      " 13  sumamnt_ma_rech30     209593 non-null  float64\n",
      " 14  medianamnt_ma_rech30  209593 non-null  float64\n",
      " 15  medianmarechprebal30  209593 non-null  float64\n",
      " 16  cnt_ma_rech90         209593 non-null  int64  \n",
      " 17  fr_ma_rech90          209593 non-null  int64  \n",
      " 18  sumamnt_ma_rech90     209593 non-null  int64  \n",
      " 19  medianamnt_ma_rech90  209593 non-null  float64\n",
      " 20  medianmarechprebal90  209593 non-null  float64\n",
      " 21  cnt_da_rech30         209593 non-null  float64\n",
      " 22  fr_da_rech30          209593 non-null  float64\n",
      " 23  cnt_da_rech90         209593 non-null  int64  \n",
      " 24  fr_da_rech90          209593 non-null  int64  \n",
      " 25  cnt_loans30           209593 non-null  int64  \n",
      " 26  amnt_loans30          209593 non-null  int64  \n",
      " 27  maxamnt_loans30       209593 non-null  float64\n",
      " 28  medianamnt_loans30    209593 non-null  float64\n",
      " 29  cnt_loans90           209593 non-null  float64\n",
      " 30  amnt_loans90          209593 non-null  int64  \n",
      " 31  maxamnt_loans90       209593 non-null  int64  \n",
      " 32  medianamnt_loans90    209593 non-null  float64\n",
      " 33  payback30             209593 non-null  float64\n",
      " 34  payback90             209593 non-null  float64\n",
      " 35  pcircle               209593 non-null  object \n",
      " 36  pdate                 209593 non-null  object \n",
      "dtypes: float64(21), int64(13), object(3)\n",
      "memory usage: 59.2+ MB\n"
     ]
    }
   ],
   "source": [
    "mcred.info()"
   ]
  },
  {
   "cell_type": "code",
   "execution_count": 12,
   "metadata": {
    "executionInfo": {
     "elapsed": 4736,
     "status": "ok",
     "timestamp": 1619521494998,
     "user": {
      "displayName": "laxmikant deepak",
      "photoUrl": "",
      "userId": "06864753657209095717"
     },
     "user_tz": -330
    },
    "id": "CsO4GeMehGW-"
   },
   "outputs": [],
   "source": [
    "#droping not necessary columns and columns with Homogineus Data\n",
    "mcred.drop(['Unnamed: 0' ,'msisdn'] , inplace=True , axis=1)"
   ]
  },
  {
   "cell_type": "code",
   "execution_count": 12,
   "metadata": {
    "executionInfo": {
     "elapsed": 4731,
     "status": "ok",
     "timestamp": 1619521494999,
     "user": {
      "displayName": "laxmikant deepak",
      "photoUrl": "",
      "userId": "06864753657209095717"
     },
     "user_tz": -330
    },
    "id": "9juJ4MxXhGW_"
   },
   "outputs": [],
   "source": []
  },
  {
   "cell_type": "code",
   "execution_count": 13,
   "metadata": {
    "colab": {
     "base_uri": "https://localhost:8080/"
    },
    "executionInfo": {
     "elapsed": 4724,
     "status": "ok",
     "timestamp": 1619521495000,
     "user": {
      "displayName": "laxmikant deepak",
      "photoUrl": "",
      "userId": "06864753657209095717"
     },
     "user_tz": -330
    },
    "id": "aHoa7oNPhGXA",
    "outputId": "d9579acb-e415-4254-aa1e-5db8227be183"
   },
   "outputs": [
    {
     "data": {
      "text/plain": [
       "(209593, 35)"
      ]
     },
     "execution_count": 13,
     "metadata": {
      "tags": []
     },
     "output_type": "execute_result"
    }
   ],
   "source": [
    "mcred.shape"
   ]
  },
  {
   "cell_type": "code",
   "execution_count": 14,
   "metadata": {
    "colab": {
     "base_uri": "https://localhost:8080/",
     "height": 317
    },
    "executionInfo": {
     "elapsed": 4707,
     "status": "ok",
     "timestamp": 1619521495001,
     "user": {
      "displayName": "laxmikant deepak",
      "photoUrl": "",
      "userId": "06864753657209095717"
     },
     "user_tz": -330
    },
    "id": "g_MNci2GhGXB",
    "outputId": "beb3887d-b47e-4548-db41-f3a1412dc763"
   },
   "outputs": [
    {
     "data": {
      "text/html": [
       "<div>\n",
       "<style scoped>\n",
       "    .dataframe tbody tr th:only-of-type {\n",
       "        vertical-align: middle;\n",
       "    }\n",
       "\n",
       "    .dataframe tbody tr th {\n",
       "        vertical-align: top;\n",
       "    }\n",
       "\n",
       "    .dataframe thead th {\n",
       "        text-align: right;\n",
       "    }\n",
       "</style>\n",
       "<table border=\"1\" class=\"dataframe\">\n",
       "  <thead>\n",
       "    <tr style=\"text-align: right;\">\n",
       "      <th></th>\n",
       "      <th>label</th>\n",
       "      <th>aon</th>\n",
       "      <th>daily_decr30</th>\n",
       "      <th>daily_decr90</th>\n",
       "      <th>rental30</th>\n",
       "      <th>rental90</th>\n",
       "      <th>last_rech_date_ma</th>\n",
       "      <th>last_rech_date_da</th>\n",
       "      <th>last_rech_amt_ma</th>\n",
       "      <th>cnt_ma_rech30</th>\n",
       "      <th>fr_ma_rech30</th>\n",
       "      <th>sumamnt_ma_rech30</th>\n",
       "      <th>medianamnt_ma_rech30</th>\n",
       "      <th>medianmarechprebal30</th>\n",
       "      <th>cnt_ma_rech90</th>\n",
       "      <th>fr_ma_rech90</th>\n",
       "      <th>sumamnt_ma_rech90</th>\n",
       "      <th>medianamnt_ma_rech90</th>\n",
       "      <th>medianmarechprebal90</th>\n",
       "      <th>cnt_da_rech30</th>\n",
       "      <th>fr_da_rech30</th>\n",
       "      <th>cnt_da_rech90</th>\n",
       "      <th>fr_da_rech90</th>\n",
       "      <th>cnt_loans30</th>\n",
       "      <th>amnt_loans30</th>\n",
       "      <th>maxamnt_loans30</th>\n",
       "      <th>medianamnt_loans30</th>\n",
       "      <th>cnt_loans90</th>\n",
       "      <th>amnt_loans90</th>\n",
       "      <th>maxamnt_loans90</th>\n",
       "      <th>medianamnt_loans90</th>\n",
       "      <th>payback30</th>\n",
       "      <th>payback90</th>\n",
       "    </tr>\n",
       "  </thead>\n",
       "  <tbody>\n",
       "    <tr>\n",
       "      <th>count</th>\n",
       "      <td>209593.000000</td>\n",
       "      <td>209593.000000</td>\n",
       "      <td>209593.000000</td>\n",
       "      <td>209593.000000</td>\n",
       "      <td>209593.000000</td>\n",
       "      <td>209593.000000</td>\n",
       "      <td>209593.000000</td>\n",
       "      <td>209593.000000</td>\n",
       "      <td>209593.000000</td>\n",
       "      <td>209593.000000</td>\n",
       "      <td>209593.000000</td>\n",
       "      <td>209593.000000</td>\n",
       "      <td>209593.000000</td>\n",
       "      <td>209593.000000</td>\n",
       "      <td>209593.00000</td>\n",
       "      <td>209593.000000</td>\n",
       "      <td>209593.000000</td>\n",
       "      <td>209593.000000</td>\n",
       "      <td>209593.000000</td>\n",
       "      <td>209593.000000</td>\n",
       "      <td>209593.000000</td>\n",
       "      <td>209593.000000</td>\n",
       "      <td>209593.000000</td>\n",
       "      <td>209593.000000</td>\n",
       "      <td>209593.000000</td>\n",
       "      <td>209593.000000</td>\n",
       "      <td>209593.000000</td>\n",
       "      <td>209593.000000</td>\n",
       "      <td>209593.000000</td>\n",
       "      <td>209593.000000</td>\n",
       "      <td>209593.000000</td>\n",
       "      <td>209593.000000</td>\n",
       "      <td>209593.000000</td>\n",
       "    </tr>\n",
       "    <tr>\n",
       "      <th>mean</th>\n",
       "      <td>0.875177</td>\n",
       "      <td>8112.343445</td>\n",
       "      <td>5381.402289</td>\n",
       "      <td>6082.515068</td>\n",
       "      <td>2692.581910</td>\n",
       "      <td>3483.406534</td>\n",
       "      <td>3755.847800</td>\n",
       "      <td>3712.202921</td>\n",
       "      <td>2064.452797</td>\n",
       "      <td>3.978057</td>\n",
       "      <td>3737.355121</td>\n",
       "      <td>7704.501157</td>\n",
       "      <td>1812.817952</td>\n",
       "      <td>3851.927942</td>\n",
       "      <td>6.31543</td>\n",
       "      <td>7.716780</td>\n",
       "      <td>12396.218352</td>\n",
       "      <td>1864.595821</td>\n",
       "      <td>92.025541</td>\n",
       "      <td>262.578110</td>\n",
       "      <td>3749.494447</td>\n",
       "      <td>0.041495</td>\n",
       "      <td>0.045712</td>\n",
       "      <td>2.758981</td>\n",
       "      <td>17.952021</td>\n",
       "      <td>274.658747</td>\n",
       "      <td>0.054029</td>\n",
       "      <td>18.520919</td>\n",
       "      <td>23.645398</td>\n",
       "      <td>6.703134</td>\n",
       "      <td>0.046077</td>\n",
       "      <td>3.398826</td>\n",
       "      <td>4.321485</td>\n",
       "    </tr>\n",
       "    <tr>\n",
       "      <th>std</th>\n",
       "      <td>0.330519</td>\n",
       "      <td>75696.082531</td>\n",
       "      <td>9220.623400</td>\n",
       "      <td>10918.812767</td>\n",
       "      <td>4308.586781</td>\n",
       "      <td>5770.461279</td>\n",
       "      <td>53905.892230</td>\n",
       "      <td>53374.833430</td>\n",
       "      <td>2370.786034</td>\n",
       "      <td>4.256090</td>\n",
       "      <td>53643.625172</td>\n",
       "      <td>10139.621714</td>\n",
       "      <td>2070.864620</td>\n",
       "      <td>54006.374433</td>\n",
       "      <td>7.19347</td>\n",
       "      <td>12.590251</td>\n",
       "      <td>16857.793882</td>\n",
       "      <td>2081.680664</td>\n",
       "      <td>369.215658</td>\n",
       "      <td>4183.897978</td>\n",
       "      <td>53885.414979</td>\n",
       "      <td>0.397556</td>\n",
       "      <td>0.951386</td>\n",
       "      <td>2.554502</td>\n",
       "      <td>17.379741</td>\n",
       "      <td>4245.264648</td>\n",
       "      <td>0.218039</td>\n",
       "      <td>224.797423</td>\n",
       "      <td>26.469861</td>\n",
       "      <td>2.103864</td>\n",
       "      <td>0.200692</td>\n",
       "      <td>8.813729</td>\n",
       "      <td>10.308108</td>\n",
       "    </tr>\n",
       "    <tr>\n",
       "      <th>min</th>\n",
       "      <td>0.000000</td>\n",
       "      <td>-48.000000</td>\n",
       "      <td>-93.012667</td>\n",
       "      <td>-93.012667</td>\n",
       "      <td>-23737.140000</td>\n",
       "      <td>-24720.580000</td>\n",
       "      <td>-29.000000</td>\n",
       "      <td>-29.000000</td>\n",
       "      <td>0.000000</td>\n",
       "      <td>0.000000</td>\n",
       "      <td>0.000000</td>\n",
       "      <td>0.000000</td>\n",
       "      <td>0.000000</td>\n",
       "      <td>-200.000000</td>\n",
       "      <td>0.00000</td>\n",
       "      <td>0.000000</td>\n",
       "      <td>0.000000</td>\n",
       "      <td>0.000000</td>\n",
       "      <td>-200.000000</td>\n",
       "      <td>0.000000</td>\n",
       "      <td>0.000000</td>\n",
       "      <td>0.000000</td>\n",
       "      <td>0.000000</td>\n",
       "      <td>0.000000</td>\n",
       "      <td>0.000000</td>\n",
       "      <td>0.000000</td>\n",
       "      <td>0.000000</td>\n",
       "      <td>0.000000</td>\n",
       "      <td>0.000000</td>\n",
       "      <td>0.000000</td>\n",
       "      <td>0.000000</td>\n",
       "      <td>0.000000</td>\n",
       "      <td>0.000000</td>\n",
       "    </tr>\n",
       "    <tr>\n",
       "      <th>25%</th>\n",
       "      <td>1.000000</td>\n",
       "      <td>246.000000</td>\n",
       "      <td>42.440000</td>\n",
       "      <td>42.692000</td>\n",
       "      <td>280.420000</td>\n",
       "      <td>300.260000</td>\n",
       "      <td>1.000000</td>\n",
       "      <td>0.000000</td>\n",
       "      <td>770.000000</td>\n",
       "      <td>1.000000</td>\n",
       "      <td>0.000000</td>\n",
       "      <td>1540.000000</td>\n",
       "      <td>770.000000</td>\n",
       "      <td>11.000000</td>\n",
       "      <td>2.00000</td>\n",
       "      <td>0.000000</td>\n",
       "      <td>2317.000000</td>\n",
       "      <td>773.000000</td>\n",
       "      <td>14.600000</td>\n",
       "      <td>0.000000</td>\n",
       "      <td>0.000000</td>\n",
       "      <td>0.000000</td>\n",
       "      <td>0.000000</td>\n",
       "      <td>1.000000</td>\n",
       "      <td>6.000000</td>\n",
       "      <td>6.000000</td>\n",
       "      <td>0.000000</td>\n",
       "      <td>1.000000</td>\n",
       "      <td>6.000000</td>\n",
       "      <td>6.000000</td>\n",
       "      <td>0.000000</td>\n",
       "      <td>0.000000</td>\n",
       "      <td>0.000000</td>\n",
       "    </tr>\n",
       "    <tr>\n",
       "      <th>50%</th>\n",
       "      <td>1.000000</td>\n",
       "      <td>527.000000</td>\n",
       "      <td>1469.175667</td>\n",
       "      <td>1500.000000</td>\n",
       "      <td>1083.570000</td>\n",
       "      <td>1334.000000</td>\n",
       "      <td>3.000000</td>\n",
       "      <td>0.000000</td>\n",
       "      <td>1539.000000</td>\n",
       "      <td>3.000000</td>\n",
       "      <td>2.000000</td>\n",
       "      <td>4628.000000</td>\n",
       "      <td>1539.000000</td>\n",
       "      <td>33.900000</td>\n",
       "      <td>4.00000</td>\n",
       "      <td>2.000000</td>\n",
       "      <td>7226.000000</td>\n",
       "      <td>1539.000000</td>\n",
       "      <td>36.000000</td>\n",
       "      <td>0.000000</td>\n",
       "      <td>0.000000</td>\n",
       "      <td>0.000000</td>\n",
       "      <td>0.000000</td>\n",
       "      <td>2.000000</td>\n",
       "      <td>12.000000</td>\n",
       "      <td>6.000000</td>\n",
       "      <td>0.000000</td>\n",
       "      <td>2.000000</td>\n",
       "      <td>12.000000</td>\n",
       "      <td>6.000000</td>\n",
       "      <td>0.000000</td>\n",
       "      <td>0.000000</td>\n",
       "      <td>1.666667</td>\n",
       "    </tr>\n",
       "    <tr>\n",
       "      <th>75%</th>\n",
       "      <td>1.000000</td>\n",
       "      <td>982.000000</td>\n",
       "      <td>7244.000000</td>\n",
       "      <td>7802.790000</td>\n",
       "      <td>3356.940000</td>\n",
       "      <td>4201.790000</td>\n",
       "      <td>7.000000</td>\n",
       "      <td>0.000000</td>\n",
       "      <td>2309.000000</td>\n",
       "      <td>5.000000</td>\n",
       "      <td>6.000000</td>\n",
       "      <td>10010.000000</td>\n",
       "      <td>1924.000000</td>\n",
       "      <td>83.000000</td>\n",
       "      <td>8.00000</td>\n",
       "      <td>8.000000</td>\n",
       "      <td>16000.000000</td>\n",
       "      <td>1924.000000</td>\n",
       "      <td>79.310000</td>\n",
       "      <td>0.000000</td>\n",
       "      <td>0.000000</td>\n",
       "      <td>0.000000</td>\n",
       "      <td>0.000000</td>\n",
       "      <td>4.000000</td>\n",
       "      <td>24.000000</td>\n",
       "      <td>6.000000</td>\n",
       "      <td>0.000000</td>\n",
       "      <td>5.000000</td>\n",
       "      <td>30.000000</td>\n",
       "      <td>6.000000</td>\n",
       "      <td>0.000000</td>\n",
       "      <td>3.750000</td>\n",
       "      <td>4.500000</td>\n",
       "    </tr>\n",
       "    <tr>\n",
       "      <th>max</th>\n",
       "      <td>1.000000</td>\n",
       "      <td>999860.755168</td>\n",
       "      <td>265926.000000</td>\n",
       "      <td>320630.000000</td>\n",
       "      <td>198926.110000</td>\n",
       "      <td>200148.110000</td>\n",
       "      <td>998650.377733</td>\n",
       "      <td>999171.809410</td>\n",
       "      <td>55000.000000</td>\n",
       "      <td>203.000000</td>\n",
       "      <td>999606.368132</td>\n",
       "      <td>810096.000000</td>\n",
       "      <td>55000.000000</td>\n",
       "      <td>999479.419319</td>\n",
       "      <td>336.00000</td>\n",
       "      <td>88.000000</td>\n",
       "      <td>953036.000000</td>\n",
       "      <td>55000.000000</td>\n",
       "      <td>41456.500000</td>\n",
       "      <td>99914.441420</td>\n",
       "      <td>999809.240107</td>\n",
       "      <td>38.000000</td>\n",
       "      <td>64.000000</td>\n",
       "      <td>50.000000</td>\n",
       "      <td>306.000000</td>\n",
       "      <td>99864.560864</td>\n",
       "      <td>3.000000</td>\n",
       "      <td>4997.517944</td>\n",
       "      <td>438.000000</td>\n",
       "      <td>12.000000</td>\n",
       "      <td>3.000000</td>\n",
       "      <td>171.500000</td>\n",
       "      <td>171.500000</td>\n",
       "    </tr>\n",
       "  </tbody>\n",
       "</table>\n",
       "</div>"
      ],
      "text/plain": [
       "               label            aon  ...      payback30      payback90\n",
       "count  209593.000000  209593.000000  ...  209593.000000  209593.000000\n",
       "mean        0.875177    8112.343445  ...       3.398826       4.321485\n",
       "std         0.330519   75696.082531  ...       8.813729      10.308108\n",
       "min         0.000000     -48.000000  ...       0.000000       0.000000\n",
       "25%         1.000000     246.000000  ...       0.000000       0.000000\n",
       "50%         1.000000     527.000000  ...       0.000000       1.666667\n",
       "75%         1.000000     982.000000  ...       3.750000       4.500000\n",
       "max         1.000000  999860.755168  ...     171.500000     171.500000\n",
       "\n",
       "[8 rows x 33 columns]"
      ]
     },
     "execution_count": 14,
     "metadata": {
      "tags": []
     },
     "output_type": "execute_result"
    }
   ],
   "source": [
    "mcred.describe()"
   ]
  },
  {
   "cell_type": "code",
   "execution_count": 15,
   "metadata": {
    "colab": {
     "base_uri": "https://localhost:8080/",
     "height": 400
    },
    "executionInfo": {
     "elapsed": 14376,
     "status": "ok",
     "timestamp": 1619521504690,
     "user": {
      "displayName": "laxmikant deepak",
      "photoUrl": "",
      "userId": "06864753657209095717"
     },
     "user_tz": -330
    },
    "id": "0bR-aQiNhGXC",
    "outputId": "d089c3d0-7128-444b-f473-ea3f19bee4f7"
   },
   "outputs": [
    {
     "data": {
      "text/plain": [
       "<matplotlib.axes._subplots.AxesSubplot at 0x7fe6b789b710>"
      ]
     },
     "execution_count": 15,
     "metadata": {
      "tags": []
     },
     "output_type": "execute_result"
    },
    {
     "data": {
      "image/png": "[encoded data removed]",
      "text/plain": [
       "<Figure size 432x288 with 2 Axes>"
      ]
     },
     "metadata": {
      "needs_background": "light",
      "tags": []
     },
     "output_type": "display_data"
    }
   ],
   "source": [
    "sns.heatmap(mcred.isnull())"
   ]
  },
  {
   "cell_type": "code",
   "execution_count": 16,
   "metadata": {
    "colab": {
     "base_uri": "https://localhost:8080/"
    },
    "executionInfo": {
     "elapsed": 14364,
     "status": "ok",
     "timestamp": 1619521504692,
     "user": {
      "displayName": "laxmikant deepak",
      "photoUrl": "",
      "userId": "06864753657209095717"
     },
     "user_tz": -330
    },
    "id": "c96SrtJOhGXD",
    "outputId": "7a922aa4-eca7-46aa-fc2f-aff6ed310f25"
   },
   "outputs": [
    {
     "data": {
      "text/plain": [
       "label                   -2.270254\n",
       "aon                     10.392949\n",
       "daily_decr30             3.946230\n",
       "daily_decr90             4.252565\n",
       "rental30                 4.521929\n",
       "rental90                 4.437681\n",
       "last_rech_date_ma       14.790974\n",
       "last_rech_date_da       14.814857\n",
       "last_rech_amt_ma         3.781149\n",
       "cnt_ma_rech30            3.283842\n",
       "fr_ma_rech30            14.772833\n",
       "sumamnt_ma_rech30        6.386787\n",
       "medianamnt_ma_rech30     3.512324\n",
       "medianmarechprebal30    14.779875\n",
       "cnt_ma_rech90            3.425254\n",
       "fr_ma_rech90             2.285423\n",
       "sumamnt_ma_rech90        4.897950\n",
       "medianamnt_ma_rech90     3.752706\n",
       "medianmarechprebal90    44.880503\n",
       "cnt_da_rech30           17.818364\n",
       "fr_da_rech30            14.776430\n",
       "cnt_da_rech90           27.267278\n",
       "fr_da_rech90            28.988083\n",
       "cnt_loans30              2.713421\n",
       "amnt_loans30             2.975719\n",
       "maxamnt_loans30         17.658052\n",
       "medianamnt_loans30       4.551043\n",
       "cnt_loans90             16.594408\n",
       "amnt_loans90             3.150006\n",
       "maxamnt_loans90          1.678304\n",
       "medianamnt_loans90       4.895720\n",
       "payback30                8.310695\n",
       "payback90                6.899951\n",
       "dtype: float64"
      ]
     },
     "execution_count": 16,
     "metadata": {
      "tags": []
     },
     "output_type": "execute_result"
    }
   ],
   "source": [
    "mcred.skew()"
   ]
  },
  {
   "cell_type": "code",
   "execution_count": 17,
   "metadata": {
    "colab": {
     "base_uri": "https://localhost:8080/",
     "height": 709
    },
    "executionInfo": {
     "elapsed": 14349,
     "status": "ok",
     "timestamp": 1619521504693,
     "user": {
      "displayName": "laxmikant deepak",
      "photoUrl": "",
      "userId": "06864753657209095717"
     },
     "user_tz": -330
    },
    "id": "Sy4OzPUwhGXF",
    "outputId": "cb72a61c-fec5-4ed5-9d2b-4a107f8ee06e"
   },
   "outputs": [
    {
     "data": {
      "image/png": "[encoded data removed]",
      "text/plain": [
       "<Figure size 1080x720 with 2 Axes>"
      ]
     },
     "metadata": {
      "needs_background": "light",
      "tags": []
     },
     "output_type": "display_data"
    }
   ],
   "source": [
    "#plotting heat map of the corelation matrix \n",
    "plt.figure(figsize=(15,10))\n",
    "sns.heatmap(mcred.corr(),linewidth=0.1,vmax=0.8,annot=False,cbar=hex)\n",
    "plt.show()"
   ]
  },
  {
   "cell_type": "code",
   "execution_count": 18,
   "metadata": {
    "colab": {
     "base_uri": "https://localhost:8080/"
    },
    "executionInfo": {
     "elapsed": 14337,
     "status": "ok",
     "timestamp": 1619521504695,
     "user": {
      "displayName": "laxmikant deepak",
      "photoUrl": "",
      "userId": "06864753657209095717"
     },
     "user_tz": -330
    },
    "id": "pUZCngLdhGXG",
    "outputId": "b162f1f7-0564-48ba-a2d8-83d951d826dc"
   },
   "outputs": [
    {
     "data": {
      "text/plain": [
       "UPW    209593\n",
       "Name: pcircle, dtype: int64"
      ]
     },
     "execution_count": 18,
     "metadata": {
      "tags": []
     },
     "output_type": "execute_result"
    }
   ],
   "source": [
    "mcred['pcircle'].value_counts()"
   ]
  },
  {
   "cell_type": "code",
   "execution_count": 19,
   "metadata": {
    "colab": {
     "base_uri": "https://localhost:8080/"
    },
    "executionInfo": {
     "elapsed": 14324,
     "status": "ok",
     "timestamp": 1619521504696,
     "user": {
      "displayName": "laxmikant deepak",
      "photoUrl": "",
      "userId": "06864753657209095717"
     },
     "user_tz": -330
    },
    "id": "_JL4gQD5hGXH",
    "outputId": "477653c2-b1e8-4a7d-f549-501f721c727c"
   },
   "outputs": [
    {
     "data": {
      "text/plain": [
       "1    183431\n",
       "0     26162\n",
       "Name: label, dtype: int64"
      ]
     },
     "execution_count": 19,
     "metadata": {
      "tags": []
     },
     "output_type": "execute_result"
    }
   ],
   "source": [
    "mcred['label'].value_counts()"
   ]
  },
  {
   "cell_type": "code",
   "execution_count": 19,
   "metadata": {
    "executionInfo": {
     "elapsed": 14316,
     "status": "ok",
     "timestamp": 1619521504698,
     "user": {
      "displayName": "laxmikant deepak",
      "photoUrl": "",
      "userId": "06864753657209095717"
     },
     "user_tz": -330
    },
    "id": "lWV_7gSnhGXI"
   },
   "outputs": [],
   "source": []
  },
  {
   "cell_type": "code",
   "execution_count": 20,
   "metadata": {
    "executionInfo": {
     "elapsed": 14316,
     "status": "ok",
     "timestamp": 1619521504704,
     "user": {
      "displayName": "laxmikant deepak",
      "photoUrl": "",
      "userId": "06864753657209095717"
     },
     "user_tz": -330
    },
    "id": "Z8iTGm-ehGXJ"
   },
   "outputs": [],
   "source": [
    "#seperating into date and time column\n",
    "mcred['pdate'] = pd.to_datetime(mcred['pdate'])\n",
    "mcred['Day'] = mcred['pdate'].dt.day\n",
    "mcred['Month'] = mcred['pdate'].dt.month\n",
    "mcred['Year'] = mcred['pdate'].dt.year"
   ]
  },
  {
   "cell_type": "code",
   "execution_count": 21,
   "metadata": {
    "colab": {
     "base_uri": "https://localhost:8080/",
     "height": 309
    },
    "executionInfo": {
     "elapsed": 14306,
     "status": "ok",
     "timestamp": 1619521504705,
     "user": {
      "displayName": "laxmikant deepak",
      "photoUrl": "",
      "userId": "06864753657209095717"
     },
     "user_tz": -330
    },
    "id": "GVK6OGishGXK",
    "outputId": "39821a2f-4f3b-42ce-dc9b-8cb2a1e5ea55"
   },
   "outputs": [
    {
     "data": {
      "text/html": [
       "<div>\n",
       "<style scoped>\n",
       "    .dataframe tbody tr th:only-of-type {\n",
       "        vertical-align: middle;\n",
       "    }\n",
       "\n",
       "    .dataframe tbody tr th {\n",
       "        vertical-align: top;\n",
       "    }\n",
       "\n",
       "    .dataframe thead th {\n",
       "        text-align: right;\n",
       "    }\n",
       "</style>\n",
       "<table border=\"1\" class=\"dataframe\">\n",
       "  <thead>\n",
       "    <tr style=\"text-align: right;\">\n",
       "      <th></th>\n",
       "      <th>label</th>\n",
       "      <th>aon</th>\n",
       "      <th>daily_decr30</th>\n",
       "      <th>daily_decr90</th>\n",
       "      <th>rental30</th>\n",
       "      <th>rental90</th>\n",
       "      <th>last_rech_date_ma</th>\n",
       "      <th>last_rech_date_da</th>\n",
       "      <th>last_rech_amt_ma</th>\n",
       "      <th>cnt_ma_rech30</th>\n",
       "      <th>fr_ma_rech30</th>\n",
       "      <th>sumamnt_ma_rech30</th>\n",
       "      <th>medianamnt_ma_rech30</th>\n",
       "      <th>medianmarechprebal30</th>\n",
       "      <th>cnt_ma_rech90</th>\n",
       "      <th>fr_ma_rech90</th>\n",
       "      <th>sumamnt_ma_rech90</th>\n",
       "      <th>medianamnt_ma_rech90</th>\n",
       "      <th>medianmarechprebal90</th>\n",
       "      <th>cnt_da_rech30</th>\n",
       "      <th>fr_da_rech30</th>\n",
       "      <th>cnt_da_rech90</th>\n",
       "      <th>fr_da_rech90</th>\n",
       "      <th>cnt_loans30</th>\n",
       "      <th>amnt_loans30</th>\n",
       "      <th>maxamnt_loans30</th>\n",
       "      <th>medianamnt_loans30</th>\n",
       "      <th>cnt_loans90</th>\n",
       "      <th>amnt_loans90</th>\n",
       "      <th>maxamnt_loans90</th>\n",
       "      <th>medianamnt_loans90</th>\n",
       "      <th>payback30</th>\n",
       "      <th>payback90</th>\n",
       "      <th>pcircle</th>\n",
       "      <th>pdate</th>\n",
       "      <th>Day</th>\n",
       "      <th>Month</th>\n",
       "      <th>Year</th>\n",
       "    </tr>\n",
       "  </thead>\n",
       "  <tbody>\n",
       "    <tr>\n",
       "      <th>0</th>\n",
       "      <td>0</td>\n",
       "      <td>272.0</td>\n",
       "      <td>3055.050000</td>\n",
       "      <td>3065.150000</td>\n",
       "      <td>220.13</td>\n",
       "      <td>260.13</td>\n",
       "      <td>2.0</td>\n",
       "      <td>0.0</td>\n",
       "      <td>1539</td>\n",
       "      <td>2</td>\n",
       "      <td>21.0</td>\n",
       "      <td>3078.0</td>\n",
       "      <td>1539.0</td>\n",
       "      <td>7.50</td>\n",
       "      <td>2</td>\n",
       "      <td>21</td>\n",
       "      <td>3078</td>\n",
       "      <td>1539.0</td>\n",
       "      <td>7.50</td>\n",
       "      <td>0.0</td>\n",
       "      <td>0.0</td>\n",
       "      <td>0</td>\n",
       "      <td>0</td>\n",
       "      <td>2</td>\n",
       "      <td>12</td>\n",
       "      <td>6.0</td>\n",
       "      <td>0.0</td>\n",
       "      <td>2.0</td>\n",
       "      <td>12</td>\n",
       "      <td>6</td>\n",
       "      <td>0.0</td>\n",
       "      <td>29.000000</td>\n",
       "      <td>29.000000</td>\n",
       "      <td>UPW</td>\n",
       "      <td>2016-07-20</td>\n",
       "      <td>20</td>\n",
       "      <td>7</td>\n",
       "      <td>2016</td>\n",
       "    </tr>\n",
       "    <tr>\n",
       "      <th>1</th>\n",
       "      <td>1</td>\n",
       "      <td>712.0</td>\n",
       "      <td>12122.000000</td>\n",
       "      <td>12124.750000</td>\n",
       "      <td>3691.26</td>\n",
       "      <td>3691.26</td>\n",
       "      <td>20.0</td>\n",
       "      <td>0.0</td>\n",
       "      <td>5787</td>\n",
       "      <td>1</td>\n",
       "      <td>0.0</td>\n",
       "      <td>5787.0</td>\n",
       "      <td>5787.0</td>\n",
       "      <td>61.04</td>\n",
       "      <td>1</td>\n",
       "      <td>0</td>\n",
       "      <td>5787</td>\n",
       "      <td>5787.0</td>\n",
       "      <td>61.04</td>\n",
       "      <td>0.0</td>\n",
       "      <td>0.0</td>\n",
       "      <td>0</td>\n",
       "      <td>0</td>\n",
       "      <td>1</td>\n",
       "      <td>12</td>\n",
       "      <td>12.0</td>\n",
       "      <td>0.0</td>\n",
       "      <td>1.0</td>\n",
       "      <td>12</td>\n",
       "      <td>12</td>\n",
       "      <td>0.0</td>\n",
       "      <td>0.000000</td>\n",
       "      <td>0.000000</td>\n",
       "      <td>UPW</td>\n",
       "      <td>2016-08-10</td>\n",
       "      <td>10</td>\n",
       "      <td>8</td>\n",
       "      <td>2016</td>\n",
       "    </tr>\n",
       "    <tr>\n",
       "      <th>2</th>\n",
       "      <td>1</td>\n",
       "      <td>535.0</td>\n",
       "      <td>1398.000000</td>\n",
       "      <td>1398.000000</td>\n",
       "      <td>900.13</td>\n",
       "      <td>900.13</td>\n",
       "      <td>3.0</td>\n",
       "      <td>0.0</td>\n",
       "      <td>1539</td>\n",
       "      <td>1</td>\n",
       "      <td>0.0</td>\n",
       "      <td>1539.0</td>\n",
       "      <td>1539.0</td>\n",
       "      <td>66.32</td>\n",
       "      <td>1</td>\n",
       "      <td>0</td>\n",
       "      <td>1539</td>\n",
       "      <td>1539.0</td>\n",
       "      <td>66.32</td>\n",
       "      <td>0.0</td>\n",
       "      <td>0.0</td>\n",
       "      <td>0</td>\n",
       "      <td>0</td>\n",
       "      <td>1</td>\n",
       "      <td>6</td>\n",
       "      <td>6.0</td>\n",
       "      <td>0.0</td>\n",
       "      <td>1.0</td>\n",
       "      <td>6</td>\n",
       "      <td>6</td>\n",
       "      <td>0.0</td>\n",
       "      <td>0.000000</td>\n",
       "      <td>0.000000</td>\n",
       "      <td>UPW</td>\n",
       "      <td>2016-08-19</td>\n",
       "      <td>19</td>\n",
       "      <td>8</td>\n",
       "      <td>2016</td>\n",
       "    </tr>\n",
       "    <tr>\n",
       "      <th>3</th>\n",
       "      <td>1</td>\n",
       "      <td>241.0</td>\n",
       "      <td>21.228000</td>\n",
       "      <td>21.228000</td>\n",
       "      <td>159.42</td>\n",
       "      <td>159.42</td>\n",
       "      <td>41.0</td>\n",
       "      <td>0.0</td>\n",
       "      <td>947</td>\n",
       "      <td>0</td>\n",
       "      <td>0.0</td>\n",
       "      <td>0.0</td>\n",
       "      <td>0.0</td>\n",
       "      <td>0.00</td>\n",
       "      <td>1</td>\n",
       "      <td>0</td>\n",
       "      <td>947</td>\n",
       "      <td>947.0</td>\n",
       "      <td>2.50</td>\n",
       "      <td>0.0</td>\n",
       "      <td>0.0</td>\n",
       "      <td>0</td>\n",
       "      <td>0</td>\n",
       "      <td>2</td>\n",
       "      <td>12</td>\n",
       "      <td>6.0</td>\n",
       "      <td>0.0</td>\n",
       "      <td>2.0</td>\n",
       "      <td>12</td>\n",
       "      <td>6</td>\n",
       "      <td>0.0</td>\n",
       "      <td>0.000000</td>\n",
       "      <td>0.000000</td>\n",
       "      <td>UPW</td>\n",
       "      <td>2016-06-06</td>\n",
       "      <td>6</td>\n",
       "      <td>6</td>\n",
       "      <td>2016</td>\n",
       "    </tr>\n",
       "    <tr>\n",
       "      <th>4</th>\n",
       "      <td>1</td>\n",
       "      <td>947.0</td>\n",
       "      <td>150.619333</td>\n",
       "      <td>150.619333</td>\n",
       "      <td>1098.90</td>\n",
       "      <td>1098.90</td>\n",
       "      <td>4.0</td>\n",
       "      <td>0.0</td>\n",
       "      <td>2309</td>\n",
       "      <td>7</td>\n",
       "      <td>2.0</td>\n",
       "      <td>20029.0</td>\n",
       "      <td>2309.0</td>\n",
       "      <td>29.00</td>\n",
       "      <td>8</td>\n",
       "      <td>2</td>\n",
       "      <td>23496</td>\n",
       "      <td>2888.0</td>\n",
       "      <td>35.00</td>\n",
       "      <td>0.0</td>\n",
       "      <td>0.0</td>\n",
       "      <td>0</td>\n",
       "      <td>0</td>\n",
       "      <td>7</td>\n",
       "      <td>42</td>\n",
       "      <td>6.0</td>\n",
       "      <td>0.0</td>\n",
       "      <td>7.0</td>\n",
       "      <td>42</td>\n",
       "      <td>6</td>\n",
       "      <td>0.0</td>\n",
       "      <td>2.333333</td>\n",
       "      <td>2.333333</td>\n",
       "      <td>UPW</td>\n",
       "      <td>2016-06-22</td>\n",
       "      <td>22</td>\n",
       "      <td>6</td>\n",
       "      <td>2016</td>\n",
       "    </tr>\n",
       "  </tbody>\n",
       "</table>\n",
       "</div>"
      ],
      "text/plain": [
       "   label    aon  daily_decr30  daily_decr90  ...      pdate  Day  Month  Year\n",
       "0      0  272.0   3055.050000   3065.150000  ... 2016-07-20   20      7  2016\n",
       "1      1  712.0  12122.000000  12124.750000  ... 2016-08-10   10      8  2016\n",
       "2      1  535.0   1398.000000   1398.000000  ... 2016-08-19   19      8  2016\n",
       "3      1  241.0     21.228000     21.228000  ... 2016-06-06    6      6  2016\n",
       "4      1  947.0    150.619333    150.619333  ... 2016-06-22   22      6  2016\n",
       "\n",
       "[5 rows x 38 columns]"
      ]
     },
     "execution_count": 21,
     "metadata": {
      "tags": []
     },
     "output_type": "execute_result"
    }
   ],
   "source": [
    "mcred.head()"
   ]
  },
  {
   "cell_type": "code",
   "execution_count": 22,
   "metadata": {
    "executionInfo": {
     "elapsed": 14295,
     "status": "ok",
     "timestamp": 1619521504706,
     "user": {
      "displayName": "laxmikant deepak",
      "photoUrl": "",
      "userId": "06864753657209095717"
     },
     "user_tz": -330
    },
    "id": "2QbPll3lhGXL"
   },
   "outputs": [],
   "source": [
    "mcred.drop(['pdate'],inplace=True, axis=1)"
   ]
  },
  {
   "cell_type": "code",
   "execution_count": 23,
   "metadata": {
    "colab": {
     "base_uri": "https://localhost:8080/",
     "height": 224
    },
    "executionInfo": {
     "elapsed": 14285,
     "status": "ok",
     "timestamp": 1619521504708,
     "user": {
      "displayName": "laxmikant deepak",
      "photoUrl": "",
      "userId": "06864753657209095717"
     },
     "user_tz": -330
    },
    "id": "hYXe1HI1hGXL",
    "outputId": "5cdc3b77-8378-4e82-b1de-9afbca8f0e6e",
    "scrolled": true
   },
   "outputs": [
    {
     "data": {
      "text/html": [
       "<div>\n",
       "<style scoped>\n",
       "    .dataframe tbody tr th:only-of-type {\n",
       "        vertical-align: middle;\n",
       "    }\n",
       "\n",
       "    .dataframe tbody tr th {\n",
       "        vertical-align: top;\n",
       "    }\n",
       "\n",
       "    .dataframe thead th {\n",
       "        text-align: right;\n",
       "    }\n",
       "</style>\n",
       "<table border=\"1\" class=\"dataframe\">\n",
       "  <thead>\n",
       "    <tr style=\"text-align: right;\">\n",
       "      <th></th>\n",
       "      <th>label</th>\n",
       "      <th>aon</th>\n",
       "      <th>daily_decr30</th>\n",
       "      <th>daily_decr90</th>\n",
       "      <th>rental30</th>\n",
       "      <th>rental90</th>\n",
       "      <th>last_rech_date_ma</th>\n",
       "      <th>last_rech_date_da</th>\n",
       "      <th>last_rech_amt_ma</th>\n",
       "      <th>cnt_ma_rech30</th>\n",
       "      <th>fr_ma_rech30</th>\n",
       "      <th>sumamnt_ma_rech30</th>\n",
       "      <th>medianamnt_ma_rech30</th>\n",
       "      <th>medianmarechprebal30</th>\n",
       "      <th>cnt_ma_rech90</th>\n",
       "      <th>fr_ma_rech90</th>\n",
       "      <th>sumamnt_ma_rech90</th>\n",
       "      <th>medianamnt_ma_rech90</th>\n",
       "      <th>medianmarechprebal90</th>\n",
       "      <th>cnt_da_rech30</th>\n",
       "      <th>fr_da_rech30</th>\n",
       "      <th>cnt_da_rech90</th>\n",
       "      <th>fr_da_rech90</th>\n",
       "      <th>cnt_loans30</th>\n",
       "      <th>amnt_loans30</th>\n",
       "      <th>maxamnt_loans30</th>\n",
       "      <th>medianamnt_loans30</th>\n",
       "      <th>cnt_loans90</th>\n",
       "      <th>amnt_loans90</th>\n",
       "      <th>maxamnt_loans90</th>\n",
       "      <th>medianamnt_loans90</th>\n",
       "      <th>payback30</th>\n",
       "      <th>payback90</th>\n",
       "      <th>pcircle</th>\n",
       "      <th>Day</th>\n",
       "      <th>Month</th>\n",
       "      <th>Year</th>\n",
       "    </tr>\n",
       "  </thead>\n",
       "  <tbody>\n",
       "    <tr>\n",
       "      <th>0</th>\n",
       "      <td>0</td>\n",
       "      <td>272.0</td>\n",
       "      <td>3055.050000</td>\n",
       "      <td>3065.150000</td>\n",
       "      <td>220.13</td>\n",
       "      <td>260.13</td>\n",
       "      <td>2.0</td>\n",
       "      <td>0.0</td>\n",
       "      <td>1539</td>\n",
       "      <td>2</td>\n",
       "      <td>21.0</td>\n",
       "      <td>3078.0</td>\n",
       "      <td>1539.0</td>\n",
       "      <td>7.50</td>\n",
       "      <td>2</td>\n",
       "      <td>21</td>\n",
       "      <td>3078</td>\n",
       "      <td>1539.0</td>\n",
       "      <td>7.50</td>\n",
       "      <td>0.0</td>\n",
       "      <td>0.0</td>\n",
       "      <td>0</td>\n",
       "      <td>0</td>\n",
       "      <td>2</td>\n",
       "      <td>12</td>\n",
       "      <td>6.0</td>\n",
       "      <td>0.0</td>\n",
       "      <td>2.0</td>\n",
       "      <td>12</td>\n",
       "      <td>6</td>\n",
       "      <td>0.0</td>\n",
       "      <td>29.000000</td>\n",
       "      <td>29.000000</td>\n",
       "      <td>UPW</td>\n",
       "      <td>20</td>\n",
       "      <td>7</td>\n",
       "      <td>2016</td>\n",
       "    </tr>\n",
       "    <tr>\n",
       "      <th>1</th>\n",
       "      <td>1</td>\n",
       "      <td>712.0</td>\n",
       "      <td>12122.000000</td>\n",
       "      <td>12124.750000</td>\n",
       "      <td>3691.26</td>\n",
       "      <td>3691.26</td>\n",
       "      <td>20.0</td>\n",
       "      <td>0.0</td>\n",
       "      <td>5787</td>\n",
       "      <td>1</td>\n",
       "      <td>0.0</td>\n",
       "      <td>5787.0</td>\n",
       "      <td>5787.0</td>\n",
       "      <td>61.04</td>\n",
       "      <td>1</td>\n",
       "      <td>0</td>\n",
       "      <td>5787</td>\n",
       "      <td>5787.0</td>\n",
       "      <td>61.04</td>\n",
       "      <td>0.0</td>\n",
       "      <td>0.0</td>\n",
       "      <td>0</td>\n",
       "      <td>0</td>\n",
       "      <td>1</td>\n",
       "      <td>12</td>\n",
       "      <td>12.0</td>\n",
       "      <td>0.0</td>\n",
       "      <td>1.0</td>\n",
       "      <td>12</td>\n",
       "      <td>12</td>\n",
       "      <td>0.0</td>\n",
       "      <td>0.000000</td>\n",
       "      <td>0.000000</td>\n",
       "      <td>UPW</td>\n",
       "      <td>10</td>\n",
       "      <td>8</td>\n",
       "      <td>2016</td>\n",
       "    </tr>\n",
       "    <tr>\n",
       "      <th>2</th>\n",
       "      <td>1</td>\n",
       "      <td>535.0</td>\n",
       "      <td>1398.000000</td>\n",
       "      <td>1398.000000</td>\n",
       "      <td>900.13</td>\n",
       "      <td>900.13</td>\n",
       "      <td>3.0</td>\n",
       "      <td>0.0</td>\n",
       "      <td>1539</td>\n",
       "      <td>1</td>\n",
       "      <td>0.0</td>\n",
       "      <td>1539.0</td>\n",
       "      <td>1539.0</td>\n",
       "      <td>66.32</td>\n",
       "      <td>1</td>\n",
       "      <td>0</td>\n",
       "      <td>1539</td>\n",
       "      <td>1539.0</td>\n",
       "      <td>66.32</td>\n",
       "      <td>0.0</td>\n",
       "      <td>0.0</td>\n",
       "      <td>0</td>\n",
       "      <td>0</td>\n",
       "      <td>1</td>\n",
       "      <td>6</td>\n",
       "      <td>6.0</td>\n",
       "      <td>0.0</td>\n",
       "      <td>1.0</td>\n",
       "      <td>6</td>\n",
       "      <td>6</td>\n",
       "      <td>0.0</td>\n",
       "      <td>0.000000</td>\n",
       "      <td>0.000000</td>\n",
       "      <td>UPW</td>\n",
       "      <td>19</td>\n",
       "      <td>8</td>\n",
       "      <td>2016</td>\n",
       "    </tr>\n",
       "    <tr>\n",
       "      <th>3</th>\n",
       "      <td>1</td>\n",
       "      <td>241.0</td>\n",
       "      <td>21.228000</td>\n",
       "      <td>21.228000</td>\n",
       "      <td>159.42</td>\n",
       "      <td>159.42</td>\n",
       "      <td>41.0</td>\n",
       "      <td>0.0</td>\n",
       "      <td>947</td>\n",
       "      <td>0</td>\n",
       "      <td>0.0</td>\n",
       "      <td>0.0</td>\n",
       "      <td>0.0</td>\n",
       "      <td>0.00</td>\n",
       "      <td>1</td>\n",
       "      <td>0</td>\n",
       "      <td>947</td>\n",
       "      <td>947.0</td>\n",
       "      <td>2.50</td>\n",
       "      <td>0.0</td>\n",
       "      <td>0.0</td>\n",
       "      <td>0</td>\n",
       "      <td>0</td>\n",
       "      <td>2</td>\n",
       "      <td>12</td>\n",
       "      <td>6.0</td>\n",
       "      <td>0.0</td>\n",
       "      <td>2.0</td>\n",
       "      <td>12</td>\n",
       "      <td>6</td>\n",
       "      <td>0.0</td>\n",
       "      <td>0.000000</td>\n",
       "      <td>0.000000</td>\n",
       "      <td>UPW</td>\n",
       "      <td>6</td>\n",
       "      <td>6</td>\n",
       "      <td>2016</td>\n",
       "    </tr>\n",
       "    <tr>\n",
       "      <th>4</th>\n",
       "      <td>1</td>\n",
       "      <td>947.0</td>\n",
       "      <td>150.619333</td>\n",
       "      <td>150.619333</td>\n",
       "      <td>1098.90</td>\n",
       "      <td>1098.90</td>\n",
       "      <td>4.0</td>\n",
       "      <td>0.0</td>\n",
       "      <td>2309</td>\n",
       "      <td>7</td>\n",
       "      <td>2.0</td>\n",
       "      <td>20029.0</td>\n",
       "      <td>2309.0</td>\n",
       "      <td>29.00</td>\n",
       "      <td>8</td>\n",
       "      <td>2</td>\n",
       "      <td>23496</td>\n",
       "      <td>2888.0</td>\n",
       "      <td>35.00</td>\n",
       "      <td>0.0</td>\n",
       "      <td>0.0</td>\n",
       "      <td>0</td>\n",
       "      <td>0</td>\n",
       "      <td>7</td>\n",
       "      <td>42</td>\n",
       "      <td>6.0</td>\n",
       "      <td>0.0</td>\n",
       "      <td>7.0</td>\n",
       "      <td>42</td>\n",
       "      <td>6</td>\n",
       "      <td>0.0</td>\n",
       "      <td>2.333333</td>\n",
       "      <td>2.333333</td>\n",
       "      <td>UPW</td>\n",
       "      <td>22</td>\n",
       "      <td>6</td>\n",
       "      <td>2016</td>\n",
       "    </tr>\n",
       "  </tbody>\n",
       "</table>\n",
       "</div>"
      ],
      "text/plain": [
       "   label    aon  daily_decr30  daily_decr90  ...  pcircle  Day  Month  Year\n",
       "0      0  272.0   3055.050000   3065.150000  ...      UPW   20      7  2016\n",
       "1      1  712.0  12122.000000  12124.750000  ...      UPW   10      8  2016\n",
       "2      1  535.0   1398.000000   1398.000000  ...      UPW   19      8  2016\n",
       "3      1  241.0     21.228000     21.228000  ...      UPW    6      6  2016\n",
       "4      1  947.0    150.619333    150.619333  ...      UPW   22      6  2016\n",
       "\n",
       "[5 rows x 37 columns]"
      ]
     },
     "execution_count": 23,
     "metadata": {
      "tags": []
     },
     "output_type": "execute_result"
    }
   ],
   "source": [
    "mcred.head()"
   ]
  },
  {
   "cell_type": "markdown",
   "metadata": {},
   "source": [
    "## Visualization"
   ]
  },
  {
   "cell_type": "code",
   "execution_count": 24,
   "metadata": {
    "colab": {
     "base_uri": "https://localhost:8080/",
     "height": 279
    },
    "executionInfo": {
     "elapsed": 16153,
     "status": "ok",
     "timestamp": 1619521506612,
     "user": {
      "displayName": "laxmikant deepak",
      "photoUrl": "",
      "userId": "06864753657209095717"
     },
     "user_tz": -330
    },
    "id": "Eam4Py7nhGXM",
    "outputId": "ce00fa51-f951-4436-c006-ba08758efd2b"
   },
   "outputs": [
    {
     "data": {
      "image/png": "[encoded data removed]",
      "text/plain": [
       "<Figure size 432x288 with 1 Axes>"
      ]
     },
     "metadata": {
      "needs_background": "light",
      "tags": []
     },
     "output_type": "display_data"
    }
   ],
   "source": [
    "sns.countplot(mcred.label)\n",
    "plt.show()"
   ]
  },
  {
   "cell_type": "code",
   "execution_count": 25,
   "metadata": {
    "colab": {
     "base_uri": "https://localhost:8080/",
     "height": 279
    },
    "executionInfo": {
     "elapsed": 16127,
     "status": "ok",
     "timestamp": 1619521506614,
     "user": {
      "displayName": "laxmikant deepak",
      "photoUrl": "",
      "userId": "06864753657209095717"
     },
     "user_tz": -330
    },
    "id": "mTYeOmtAhGXP",
    "outputId": "021ca89e-44a8-46b5-ad07-cd05b01e436d"
   },
   "outputs": [
    {
     "data": {
      "image/png": "[encoded data removed]",
      "text/plain": [
       "<Figure size 432x288 with 1 Axes>"
      ]
     },
     "metadata": {
      "needs_background": "light",
      "tags": []
     },
     "output_type": "display_data"
    }
   ],
   "source": [
    "sns.countplot(mcred.Year)\n",
    "plt.show()"
   ]
  },
  {
   "cell_type": "code",
   "execution_count": 26,
   "metadata": {
    "colab": {
     "base_uri": "https://localhost:8080/",
     "height": 279
    },
    "executionInfo": {
     "elapsed": 16098,
     "status": "ok",
     "timestamp": 1619521506616,
     "user": {
      "displayName": "laxmikant deepak",
      "photoUrl": "",
      "userId": "06864753657209095717"
     },
     "user_tz": -330
    },
    "id": "ljfV0in0hGXS",
    "outputId": "9959e147-490d-4163-afbb-3014d76b28cc"
   },
   "outputs": [
    {
     "data": {
      "image/png": "[encoded data removed]",
      "text/plain": [
       "<Figure size 432x288 with 1 Axes>"
      ]
     },
     "metadata": {
      "needs_background": "light",
      "tags": []
     },
     "output_type": "display_data"
    }
   ],
   "source": [
    "sns.countplot(mcred.Month)\n",
    "plt.show()"
   ]
  },
  {
   "cell_type": "code",
   "execution_count": 27,
   "metadata": {
    "colab": {
     "base_uri": "https://localhost:8080/",
     "height": 279
    },
    "executionInfo": {
     "elapsed": 16073,
     "status": "ok",
     "timestamp": 1619521506619,
     "user": {
      "displayName": "laxmikant deepak",
      "photoUrl": "",
      "userId": "06864753657209095717"
     },
     "user_tz": -330
    },
    "id": "sYAxCzQuhGXU",
    "outputId": "2c430481-779a-4c0d-d548-b3e3133d6846"
   },
   "outputs": [
    {
     "data": {
      "image/png": "[encoded data removed]",
      "text/plain": [
       "<Figure size 432x288 with 1 Axes>"
      ]
     },
     "metadata": {
      "needs_background": "light",
      "tags": []
     },
     "output_type": "display_data"
    }
   ],
   "source": [
    "sns.countplot(mcred.Day)\n",
    "plt.show()"
   ]
  },
  {
   "cell_type": "code",
   "execution_count": 28,
   "metadata": {
    "colab": {
     "base_uri": "https://localhost:8080/",
     "height": 439
    },
    "executionInfo": {
     "elapsed": 16056,
     "status": "ok",
     "timestamp": 1619521506624,
     "user": {
      "displayName": "laxmikant deepak",
      "photoUrl": "",
      "userId": "06864753657209095717"
     },
     "user_tz": -330
    },
    "id": "LAn8GSXbhGXV",
    "outputId": "360f0f31-6eb7-4468-fe8e-0598bc4b4ea7",
    "scrolled": true
   },
   "outputs": [
    {
     "data": {
      "text/html": [
       "<div>\n",
       "<style scoped>\n",
       "    .dataframe tbody tr th:only-of-type {\n",
       "        vertical-align: middle;\n",
       "    }\n",
       "\n",
       "    .dataframe tbody tr th {\n",
       "        vertical-align: top;\n",
       "    }\n",
       "\n",
       "    .dataframe thead th {\n",
       "        text-align: right;\n",
       "    }\n",
       "</style>\n",
       "<table border=\"1\" class=\"dataframe\">\n",
       "  <thead>\n",
       "    <tr style=\"text-align: right;\">\n",
       "      <th></th>\n",
       "      <th>label</th>\n",
       "      <th>aon</th>\n",
       "      <th>daily_decr30</th>\n",
       "      <th>daily_decr90</th>\n",
       "      <th>rental30</th>\n",
       "      <th>rental90</th>\n",
       "      <th>last_rech_date_ma</th>\n",
       "      <th>last_rech_date_da</th>\n",
       "      <th>last_rech_amt_ma</th>\n",
       "      <th>cnt_ma_rech30</th>\n",
       "      <th>fr_ma_rech30</th>\n",
       "      <th>sumamnt_ma_rech30</th>\n",
       "      <th>medianamnt_ma_rech30</th>\n",
       "      <th>medianmarechprebal30</th>\n",
       "      <th>cnt_ma_rech90</th>\n",
       "      <th>fr_ma_rech90</th>\n",
       "      <th>sumamnt_ma_rech90</th>\n",
       "      <th>medianamnt_ma_rech90</th>\n",
       "      <th>medianmarechprebal90</th>\n",
       "      <th>cnt_da_rech30</th>\n",
       "      <th>fr_da_rech30</th>\n",
       "      <th>cnt_da_rech90</th>\n",
       "      <th>fr_da_rech90</th>\n",
       "      <th>cnt_loans30</th>\n",
       "      <th>amnt_loans30</th>\n",
       "      <th>maxamnt_loans30</th>\n",
       "      <th>medianamnt_loans30</th>\n",
       "      <th>cnt_loans90</th>\n",
       "      <th>amnt_loans90</th>\n",
       "      <th>maxamnt_loans90</th>\n",
       "      <th>medianamnt_loans90</th>\n",
       "      <th>payback30</th>\n",
       "      <th>payback90</th>\n",
       "      <th>pcircle</th>\n",
       "      <th>Day</th>\n",
       "      <th>Month</th>\n",
       "      <th>Year</th>\n",
       "    </tr>\n",
       "  </thead>\n",
       "  <tbody>\n",
       "    <tr>\n",
       "      <th>1</th>\n",
       "      <td>1</td>\n",
       "      <td>712.0</td>\n",
       "      <td>12122.000000</td>\n",
       "      <td>12124.750000</td>\n",
       "      <td>3691.26</td>\n",
       "      <td>3691.26</td>\n",
       "      <td>20.0</td>\n",
       "      <td>0.0</td>\n",
       "      <td>5787</td>\n",
       "      <td>1</td>\n",
       "      <td>0.0</td>\n",
       "      <td>5787.0</td>\n",
       "      <td>5787.0</td>\n",
       "      <td>61.04</td>\n",
       "      <td>1</td>\n",
       "      <td>0</td>\n",
       "      <td>5787</td>\n",
       "      <td>5787.0</td>\n",
       "      <td>61.04</td>\n",
       "      <td>0.0</td>\n",
       "      <td>0.0</td>\n",
       "      <td>0</td>\n",
       "      <td>0</td>\n",
       "      <td>1</td>\n",
       "      <td>12</td>\n",
       "      <td>12.0</td>\n",
       "      <td>0.0</td>\n",
       "      <td>1.0</td>\n",
       "      <td>12</td>\n",
       "      <td>12</td>\n",
       "      <td>0.0</td>\n",
       "      <td>0.000000</td>\n",
       "      <td>0.000000</td>\n",
       "      <td>UPW</td>\n",
       "      <td>10</td>\n",
       "      <td>8</td>\n",
       "      <td>2016</td>\n",
       "    </tr>\n",
       "    <tr>\n",
       "      <th>2</th>\n",
       "      <td>1</td>\n",
       "      <td>535.0</td>\n",
       "      <td>1398.000000</td>\n",
       "      <td>1398.000000</td>\n",
       "      <td>900.13</td>\n",
       "      <td>900.13</td>\n",
       "      <td>3.0</td>\n",
       "      <td>0.0</td>\n",
       "      <td>1539</td>\n",
       "      <td>1</td>\n",
       "      <td>0.0</td>\n",
       "      <td>1539.0</td>\n",
       "      <td>1539.0</td>\n",
       "      <td>66.32</td>\n",
       "      <td>1</td>\n",
       "      <td>0</td>\n",
       "      <td>1539</td>\n",
       "      <td>1539.0</td>\n",
       "      <td>66.32</td>\n",
       "      <td>0.0</td>\n",
       "      <td>0.0</td>\n",
       "      <td>0</td>\n",
       "      <td>0</td>\n",
       "      <td>1</td>\n",
       "      <td>6</td>\n",
       "      <td>6.0</td>\n",
       "      <td>0.0</td>\n",
       "      <td>1.0</td>\n",
       "      <td>6</td>\n",
       "      <td>6</td>\n",
       "      <td>0.0</td>\n",
       "      <td>0.000000</td>\n",
       "      <td>0.000000</td>\n",
       "      <td>UPW</td>\n",
       "      <td>19</td>\n",
       "      <td>8</td>\n",
       "      <td>2016</td>\n",
       "    </tr>\n",
       "    <tr>\n",
       "      <th>3</th>\n",
       "      <td>1</td>\n",
       "      <td>241.0</td>\n",
       "      <td>21.228000</td>\n",
       "      <td>21.228000</td>\n",
       "      <td>159.42</td>\n",
       "      <td>159.42</td>\n",
       "      <td>41.0</td>\n",
       "      <td>0.0</td>\n",
       "      <td>947</td>\n",
       "      <td>0</td>\n",
       "      <td>0.0</td>\n",
       "      <td>0.0</td>\n",
       "      <td>0.0</td>\n",
       "      <td>0.00</td>\n",
       "      <td>1</td>\n",
       "      <td>0</td>\n",
       "      <td>947</td>\n",
       "      <td>947.0</td>\n",
       "      <td>2.50</td>\n",
       "      <td>0.0</td>\n",
       "      <td>0.0</td>\n",
       "      <td>0</td>\n",
       "      <td>0</td>\n",
       "      <td>2</td>\n",
       "      <td>12</td>\n",
       "      <td>6.0</td>\n",
       "      <td>0.0</td>\n",
       "      <td>2.0</td>\n",
       "      <td>12</td>\n",
       "      <td>6</td>\n",
       "      <td>0.0</td>\n",
       "      <td>0.000000</td>\n",
       "      <td>0.000000</td>\n",
       "      <td>UPW</td>\n",
       "      <td>6</td>\n",
       "      <td>6</td>\n",
       "      <td>2016</td>\n",
       "    </tr>\n",
       "    <tr>\n",
       "      <th>4</th>\n",
       "      <td>1</td>\n",
       "      <td>947.0</td>\n",
       "      <td>150.619333</td>\n",
       "      <td>150.619333</td>\n",
       "      <td>1098.90</td>\n",
       "      <td>1098.90</td>\n",
       "      <td>4.0</td>\n",
       "      <td>0.0</td>\n",
       "      <td>2309</td>\n",
       "      <td>7</td>\n",
       "      <td>2.0</td>\n",
       "      <td>20029.0</td>\n",
       "      <td>2309.0</td>\n",
       "      <td>29.00</td>\n",
       "      <td>8</td>\n",
       "      <td>2</td>\n",
       "      <td>23496</td>\n",
       "      <td>2888.0</td>\n",
       "      <td>35.00</td>\n",
       "      <td>0.0</td>\n",
       "      <td>0.0</td>\n",
       "      <td>0</td>\n",
       "      <td>0</td>\n",
       "      <td>7</td>\n",
       "      <td>42</td>\n",
       "      <td>6.0</td>\n",
       "      <td>0.0</td>\n",
       "      <td>7.0</td>\n",
       "      <td>42</td>\n",
       "      <td>6</td>\n",
       "      <td>0.0</td>\n",
       "      <td>2.333333</td>\n",
       "      <td>2.333333</td>\n",
       "      <td>UPW</td>\n",
       "      <td>22</td>\n",
       "      <td>6</td>\n",
       "      <td>2016</td>\n",
       "    </tr>\n",
       "    <tr>\n",
       "      <th>5</th>\n",
       "      <td>1</td>\n",
       "      <td>568.0</td>\n",
       "      <td>2257.362667</td>\n",
       "      <td>2261.460000</td>\n",
       "      <td>368.13</td>\n",
       "      <td>380.13</td>\n",
       "      <td>2.0</td>\n",
       "      <td>0.0</td>\n",
       "      <td>1539</td>\n",
       "      <td>4</td>\n",
       "      <td>10.0</td>\n",
       "      <td>6156.0</td>\n",
       "      <td>1539.0</td>\n",
       "      <td>15.40</td>\n",
       "      <td>8</td>\n",
       "      <td>0</td>\n",
       "      <td>11744</td>\n",
       "      <td>1539.0</td>\n",
       "      <td>55.90</td>\n",
       "      <td>0.0</td>\n",
       "      <td>0.0</td>\n",
       "      <td>0</td>\n",
       "      <td>0</td>\n",
       "      <td>3</td>\n",
       "      <td>18</td>\n",
       "      <td>6.0</td>\n",
       "      <td>0.0</td>\n",
       "      <td>3.0</td>\n",
       "      <td>18</td>\n",
       "      <td>6</td>\n",
       "      <td>0.0</td>\n",
       "      <td>11.000000</td>\n",
       "      <td>8.333333</td>\n",
       "      <td>UPW</td>\n",
       "      <td>2</td>\n",
       "      <td>7</td>\n",
       "      <td>2016</td>\n",
       "    </tr>\n",
       "    <tr>\n",
       "      <th>...</th>\n",
       "      <td>...</td>\n",
       "      <td>...</td>\n",
       "      <td>...</td>\n",
       "      <td>...</td>\n",
       "      <td>...</td>\n",
       "      <td>...</td>\n",
       "      <td>...</td>\n",
       "      <td>...</td>\n",
       "      <td>...</td>\n",
       "      <td>...</td>\n",
       "      <td>...</td>\n",
       "      <td>...</td>\n",
       "      <td>...</td>\n",
       "      <td>...</td>\n",
       "      <td>...</td>\n",
       "      <td>...</td>\n",
       "      <td>...</td>\n",
       "      <td>...</td>\n",
       "      <td>...</td>\n",
       "      <td>...</td>\n",
       "      <td>...</td>\n",
       "      <td>...</td>\n",
       "      <td>...</td>\n",
       "      <td>...</td>\n",
       "      <td>...</td>\n",
       "      <td>...</td>\n",
       "      <td>...</td>\n",
       "      <td>...</td>\n",
       "      <td>...</td>\n",
       "      <td>...</td>\n",
       "      <td>...</td>\n",
       "      <td>...</td>\n",
       "      <td>...</td>\n",
       "      <td>...</td>\n",
       "      <td>...</td>\n",
       "      <td>...</td>\n",
       "      <td>...</td>\n",
       "    </tr>\n",
       "    <tr>\n",
       "      <th>209588</th>\n",
       "      <td>1</td>\n",
       "      <td>404.0</td>\n",
       "      <td>151.872333</td>\n",
       "      <td>151.872333</td>\n",
       "      <td>1089.19</td>\n",
       "      <td>1089.19</td>\n",
       "      <td>1.0</td>\n",
       "      <td>0.0</td>\n",
       "      <td>4048</td>\n",
       "      <td>3</td>\n",
       "      <td>2.0</td>\n",
       "      <td>10404.0</td>\n",
       "      <td>3178.0</td>\n",
       "      <td>91.81</td>\n",
       "      <td>3</td>\n",
       "      <td>2</td>\n",
       "      <td>10404</td>\n",
       "      <td>3178.0</td>\n",
       "      <td>91.81</td>\n",
       "      <td>0.0</td>\n",
       "      <td>0.0</td>\n",
       "      <td>0</td>\n",
       "      <td>0</td>\n",
       "      <td>2</td>\n",
       "      <td>12</td>\n",
       "      <td>6.0</td>\n",
       "      <td>0.0</td>\n",
       "      <td>2.0</td>\n",
       "      <td>12</td>\n",
       "      <td>6</td>\n",
       "      <td>0.0</td>\n",
       "      <td>1.000000</td>\n",
       "      <td>1.000000</td>\n",
       "      <td>UPW</td>\n",
       "      <td>17</td>\n",
       "      <td>6</td>\n",
       "      <td>2016</td>\n",
       "    </tr>\n",
       "    <tr>\n",
       "      <th>209589</th>\n",
       "      <td>1</td>\n",
       "      <td>1075.0</td>\n",
       "      <td>36.936000</td>\n",
       "      <td>36.936000</td>\n",
       "      <td>1728.36</td>\n",
       "      <td>1728.36</td>\n",
       "      <td>4.0</td>\n",
       "      <td>0.0</td>\n",
       "      <td>773</td>\n",
       "      <td>4</td>\n",
       "      <td>1.0</td>\n",
       "      <td>3092.0</td>\n",
       "      <td>773.0</td>\n",
       "      <td>161.30</td>\n",
       "      <td>6</td>\n",
       "      <td>2</td>\n",
       "      <td>4038</td>\n",
       "      <td>773.0</td>\n",
       "      <td>111.80</td>\n",
       "      <td>0.0</td>\n",
       "      <td>0.0</td>\n",
       "      <td>0</td>\n",
       "      <td>0</td>\n",
       "      <td>3</td>\n",
       "      <td>18</td>\n",
       "      <td>6.0</td>\n",
       "      <td>0.0</td>\n",
       "      <td>3.0</td>\n",
       "      <td>18</td>\n",
       "      <td>6</td>\n",
       "      <td>0.0</td>\n",
       "      <td>1.000000</td>\n",
       "      <td>1.000000</td>\n",
       "      <td>UPW</td>\n",
       "      <td>12</td>\n",
       "      <td>6</td>\n",
       "      <td>2016</td>\n",
       "    </tr>\n",
       "    <tr>\n",
       "      <th>209590</th>\n",
       "      <td>1</td>\n",
       "      <td>1013.0</td>\n",
       "      <td>11843.111667</td>\n",
       "      <td>11904.350000</td>\n",
       "      <td>5861.83</td>\n",
       "      <td>8893.20</td>\n",
       "      <td>3.0</td>\n",
       "      <td>0.0</td>\n",
       "      <td>1539</td>\n",
       "      <td>5</td>\n",
       "      <td>8.0</td>\n",
       "      <td>9334.0</td>\n",
       "      <td>1539.0</td>\n",
       "      <td>51.13</td>\n",
       "      <td>11</td>\n",
       "      <td>5</td>\n",
       "      <td>18592</td>\n",
       "      <td>1539.0</td>\n",
       "      <td>47.13</td>\n",
       "      <td>0.0</td>\n",
       "      <td>0.0</td>\n",
       "      <td>0</td>\n",
       "      <td>0</td>\n",
       "      <td>4</td>\n",
       "      <td>42</td>\n",
       "      <td>12.0</td>\n",
       "      <td>0.0</td>\n",
       "      <td>6.0</td>\n",
       "      <td>54</td>\n",
       "      <td>12</td>\n",
       "      <td>0.0</td>\n",
       "      <td>4.000000</td>\n",
       "      <td>3.833333</td>\n",
       "      <td>UPW</td>\n",
       "      <td>29</td>\n",
       "      <td>7</td>\n",
       "      <td>2016</td>\n",
       "    </tr>\n",
       "    <tr>\n",
       "      <th>209591</th>\n",
       "      <td>1</td>\n",
       "      <td>1732.0</td>\n",
       "      <td>12488.228333</td>\n",
       "      <td>12574.370000</td>\n",
       "      <td>411.83</td>\n",
       "      <td>984.58</td>\n",
       "      <td>2.0</td>\n",
       "      <td>38.0</td>\n",
       "      <td>773</td>\n",
       "      <td>5</td>\n",
       "      <td>4.0</td>\n",
       "      <td>12154.0</td>\n",
       "      <td>773.0</td>\n",
       "      <td>164.00</td>\n",
       "      <td>6</td>\n",
       "      <td>4</td>\n",
       "      <td>17941</td>\n",
       "      <td>2410.5</td>\n",
       "      <td>100.00</td>\n",
       "      <td>0.0</td>\n",
       "      <td>0.0</td>\n",
       "      <td>1</td>\n",
       "      <td>0</td>\n",
       "      <td>2</td>\n",
       "      <td>18</td>\n",
       "      <td>12.0</td>\n",
       "      <td>0.0</td>\n",
       "      <td>3.0</td>\n",
       "      <td>24</td>\n",
       "      <td>12</td>\n",
       "      <td>0.0</td>\n",
       "      <td>0.000000</td>\n",
       "      <td>10.500000</td>\n",
       "      <td>UPW</td>\n",
       "      <td>25</td>\n",
       "      <td>7</td>\n",
       "      <td>2016</td>\n",
       "    </tr>\n",
       "    <tr>\n",
       "      <th>209592</th>\n",
       "      <td>1</td>\n",
       "      <td>1581.0</td>\n",
       "      <td>4489.362000</td>\n",
       "      <td>4534.820000</td>\n",
       "      <td>483.92</td>\n",
       "      <td>631.20</td>\n",
       "      <td>13.0</td>\n",
       "      <td>0.0</td>\n",
       "      <td>7526</td>\n",
       "      <td>2</td>\n",
       "      <td>1.0</td>\n",
       "      <td>9065.0</td>\n",
       "      <td>4532.5</td>\n",
       "      <td>356.70</td>\n",
       "      <td>3</td>\n",
       "      <td>19</td>\n",
       "      <td>16591</td>\n",
       "      <td>7526.0</td>\n",
       "      <td>392.20</td>\n",
       "      <td>0.0</td>\n",
       "      <td>0.0</td>\n",
       "      <td>0</td>\n",
       "      <td>0</td>\n",
       "      <td>2</td>\n",
       "      <td>18</td>\n",
       "      <td>12.0</td>\n",
       "      <td>0.0</td>\n",
       "      <td>2.0</td>\n",
       "      <td>18</td>\n",
       "      <td>12</td>\n",
       "      <td>0.0</td>\n",
       "      <td>0.000000</td>\n",
       "      <td>0.000000</td>\n",
       "      <td>UPW</td>\n",
       "      <td>7</td>\n",
       "      <td>7</td>\n",
       "      <td>2016</td>\n",
       "    </tr>\n",
       "  </tbody>\n",
       "</table>\n",
       "<p>183431 rows × 37 columns</p>\n",
       "</div>"
      ],
      "text/plain": [
       "        label     aon  daily_decr30  daily_decr90  ...  pcircle  Day  Month  Year\n",
       "1           1   712.0  12122.000000  12124.750000  ...      UPW   10      8  2016\n",
       "2           1   535.0   1398.000000   1398.000000  ...      UPW   19      8  2016\n",
       "3           1   241.0     21.228000     21.228000  ...      UPW    6      6  2016\n",
       "4           1   947.0    150.619333    150.619333  ...      UPW   22      6  2016\n",
       "5           1   568.0   2257.362667   2261.460000  ...      UPW    2      7  2016\n",
       "...       ...     ...           ...           ...  ...      ...  ...    ...   ...\n",
       "209588      1   404.0    151.872333    151.872333  ...      UPW   17      6  2016\n",
       "209589      1  1075.0     36.936000     36.936000  ...      UPW   12      6  2016\n",
       "209590      1  1013.0  11843.111667  11904.350000  ...      UPW   29      7  2016\n",
       "209591      1  1732.0  12488.228333  12574.370000  ...      UPW   25      7  2016\n",
       "209592      1  1581.0   4489.362000   4534.820000  ...      UPW    7      7  2016\n",
       "\n",
       "[183431 rows x 37 columns]"
      ]
     },
     "execution_count": 28,
     "metadata": {
      "tags": []
     },
     "output_type": "execute_result"
    }
   ],
   "source": [
    "loanpayed=mcred[mcred['label']==1]\n",
    "loanpayed"
   ]
  },
  {
   "cell_type": "code",
   "execution_count": 29,
   "metadata": {
    "colab": {
     "base_uri": "https://localhost:8080/"
    },
    "executionInfo": {
     "elapsed": 16032,
     "status": "ok",
     "timestamp": 1619521506625,
     "user": {
      "displayName": "laxmikant deepak",
      "photoUrl": "",
      "userId": "06864753657209095717"
     },
     "user_tz": -330
    },
    "id": "V5blNITwgDCA",
    "outputId": "8950fb2c-54d3-4df8-a038-5db0924d0f98"
   },
   "outputs": [
    {
     "data": {
      "text/plain": [
       "Index(['label', 'aon', 'daily_decr30', 'daily_decr90', 'rental30', 'rental90',\n",
       "       'last_rech_date_ma', 'last_rech_date_da', 'last_rech_amt_ma',\n",
       "       'cnt_ma_rech30', 'fr_ma_rech30', 'sumamnt_ma_rech30',\n",
       "       'medianamnt_ma_rech30', 'medianmarechprebal30', 'cnt_ma_rech90',\n",
       "       'fr_ma_rech90', 'sumamnt_ma_rech90', 'medianamnt_ma_rech90',\n",
       "       'medianmarechprebal90', 'cnt_da_rech30', 'fr_da_rech30',\n",
       "       'cnt_da_rech90', 'fr_da_rech90', 'cnt_loans30', 'amnt_loans30',\n",
       "       'maxamnt_loans30', 'medianamnt_loans30', 'cnt_loans90', 'amnt_loans90',\n",
       "       'maxamnt_loans90', 'medianamnt_loans90', 'payback30', 'payback90',\n",
       "       'pcircle', 'Day', 'Month', 'Year'],\n",
       "      dtype='object')"
      ]
     },
     "execution_count": 29,
     "metadata": {
      "tags": []
     },
     "output_type": "execute_result"
    }
   ],
   "source": [
    "loanpayed.columns"
   ]
  },
  {
   "cell_type": "code",
   "execution_count": 30,
   "metadata": {
    "executionInfo": {
     "elapsed": 16024,
     "status": "ok",
     "timestamp": 1619521506627,
     "user": {
      "displayName": "laxmikant deepak",
      "photoUrl": "",
      "userId": "06864753657209095717"
     },
     "user_tz": -330
    },
    "id": "YHsBlB3suJrW"
   },
   "outputs": [],
   "source": [
    "dt=loanpayed.iloc[:,:-4]"
   ]
  },
  {
   "cell_type": "code",
   "execution_count": 31,
   "metadata": {
    "colab": {
     "base_uri": "https://localhost:8080/",
     "height": 934
    },
    "executionInfo": {
     "elapsed": 21470,
     "status": "ok",
     "timestamp": 1619521512086,
     "user": {
      "displayName": "laxmikant deepak",
      "photoUrl": "",
      "userId": "06864753657209095717"
     },
     "user_tz": -330
    },
    "id": "3eV8LiZEhZzk",
    "outputId": "431b9d5c-edf8-46dc-c773-92b3b1100965"
   },
   "outputs": [
    {
     "data": {
      "image/png": "[encoded data removed]",
      "text/plain": [
       "<Figure size 1152x1152 with 36 Axes>"
      ]
     },
     "metadata": {
      "needs_background": "light",
      "tags": []
     },
     "output_type": "display_data"
    }
   ],
   "source": [
    "dt[['label', 'aon', 'daily_decr30', 'daily_decr90', 'rental30', 'rental90',\n",
    "       'last_rech_date_ma', 'last_rech_date_da', 'last_rech_amt_ma',\n",
    "       'cnt_ma_rech30', 'fr_ma_rech30', 'sumamnt_ma_rech30',\n",
    "       'medianamnt_ma_rech30', 'medianmarechprebal30', 'cnt_ma_rech90',\n",
    "       'fr_ma_rech90', 'sumamnt_ma_rech90', 'medianamnt_ma_rech90',\n",
    "       'medianmarechprebal90', 'cnt_da_rech30', 'fr_da_rech30',\n",
    "       'cnt_da_rech90', 'fr_da_rech90', 'cnt_loans30', 'amnt_loans30',\n",
    "       'maxamnt_loans30', 'medianamnt_loans30', 'cnt_loans90', 'amnt_loans90',\n",
    "       'maxamnt_loans90', 'medianamnt_loans90', 'payback30', 'payback90']].hist(bins=20,\n",
    "                                                                               figsize=(16, 16))\n",
    "plt.show()"
   ]
  },
  {
   "cell_type": "code",
   "execution_count": 32,
   "metadata": {
    "colab": {
     "base_uri": "https://localhost:8080/",
     "height": 439
    },
    "executionInfo": {
     "elapsed": 21458,
     "status": "ok",
     "timestamp": 1619521512090,
     "user": {
      "displayName": "laxmikant deepak",
      "photoUrl": "",
      "userId": "06864753657209095717"
     },
     "user_tz": -330
    },
    "id": "8BitB27ruMCB",
    "outputId": "91a06b96-c7fb-48b4-e88a-c29346bd1a70"
   },
   "outputs": [
    {
     "data": {
      "text/html": [
       "<div>\n",
       "<style scoped>\n",
       "    .dataframe tbody tr th:only-of-type {\n",
       "        vertical-align: middle;\n",
       "    }\n",
       "\n",
       "    .dataframe tbody tr th {\n",
       "        vertical-align: top;\n",
       "    }\n",
       "\n",
       "    .dataframe thead th {\n",
       "        text-align: right;\n",
       "    }\n",
       "</style>\n",
       "<table border=\"1\" class=\"dataframe\">\n",
       "  <thead>\n",
       "    <tr style=\"text-align: right;\">\n",
       "      <th></th>\n",
       "      <th>label</th>\n",
       "      <th>aon</th>\n",
       "      <th>daily_decr30</th>\n",
       "      <th>daily_decr90</th>\n",
       "      <th>rental30</th>\n",
       "      <th>rental90</th>\n",
       "      <th>last_rech_date_ma</th>\n",
       "      <th>last_rech_date_da</th>\n",
       "      <th>last_rech_amt_ma</th>\n",
       "      <th>cnt_ma_rech30</th>\n",
       "      <th>fr_ma_rech30</th>\n",
       "      <th>sumamnt_ma_rech30</th>\n",
       "      <th>medianamnt_ma_rech30</th>\n",
       "      <th>medianmarechprebal30</th>\n",
       "      <th>cnt_ma_rech90</th>\n",
       "      <th>fr_ma_rech90</th>\n",
       "      <th>sumamnt_ma_rech90</th>\n",
       "      <th>medianamnt_ma_rech90</th>\n",
       "      <th>medianmarechprebal90</th>\n",
       "      <th>cnt_da_rech30</th>\n",
       "      <th>fr_da_rech30</th>\n",
       "      <th>cnt_da_rech90</th>\n",
       "      <th>fr_da_rech90</th>\n",
       "      <th>cnt_loans30</th>\n",
       "      <th>amnt_loans30</th>\n",
       "      <th>maxamnt_loans30</th>\n",
       "      <th>medianamnt_loans30</th>\n",
       "      <th>cnt_loans90</th>\n",
       "      <th>amnt_loans90</th>\n",
       "      <th>maxamnt_loans90</th>\n",
       "      <th>medianamnt_loans90</th>\n",
       "      <th>payback30</th>\n",
       "      <th>payback90</th>\n",
       "      <th>pcircle</th>\n",
       "      <th>Day</th>\n",
       "      <th>Month</th>\n",
       "      <th>Year</th>\n",
       "    </tr>\n",
       "  </thead>\n",
       "  <tbody>\n",
       "    <tr>\n",
       "      <th>0</th>\n",
       "      <td>0</td>\n",
       "      <td>272.0</td>\n",
       "      <td>3055.050000</td>\n",
       "      <td>3065.150000</td>\n",
       "      <td>220.13</td>\n",
       "      <td>260.13</td>\n",
       "      <td>2.0</td>\n",
       "      <td>0.0</td>\n",
       "      <td>1539</td>\n",
       "      <td>2</td>\n",
       "      <td>21.0</td>\n",
       "      <td>3078.0</td>\n",
       "      <td>1539.0</td>\n",
       "      <td>7.50</td>\n",
       "      <td>2</td>\n",
       "      <td>21</td>\n",
       "      <td>3078</td>\n",
       "      <td>1539.0</td>\n",
       "      <td>7.50</td>\n",
       "      <td>0.0</td>\n",
       "      <td>0.0</td>\n",
       "      <td>0</td>\n",
       "      <td>0</td>\n",
       "      <td>2</td>\n",
       "      <td>12</td>\n",
       "      <td>6.0</td>\n",
       "      <td>0.0</td>\n",
       "      <td>2.0</td>\n",
       "      <td>12</td>\n",
       "      <td>6</td>\n",
       "      <td>0.0</td>\n",
       "      <td>29.0</td>\n",
       "      <td>29.0</td>\n",
       "      <td>UPW</td>\n",
       "      <td>20</td>\n",
       "      <td>7</td>\n",
       "      <td>2016</td>\n",
       "    </tr>\n",
       "    <tr>\n",
       "      <th>11</th>\n",
       "      <td>0</td>\n",
       "      <td>82.0</td>\n",
       "      <td>65.166667</td>\n",
       "      <td>65.166667</td>\n",
       "      <td>326.20</td>\n",
       "      <td>326.20</td>\n",
       "      <td>17.0</td>\n",
       "      <td>0.0</td>\n",
       "      <td>7526</td>\n",
       "      <td>2</td>\n",
       "      <td>0.0</td>\n",
       "      <td>9065.0</td>\n",
       "      <td>4532.5</td>\n",
       "      <td>489.00</td>\n",
       "      <td>2</td>\n",
       "      <td>0</td>\n",
       "      <td>9065</td>\n",
       "      <td>4532.5</td>\n",
       "      <td>489.00</td>\n",
       "      <td>0.0</td>\n",
       "      <td>0.0</td>\n",
       "      <td>0</td>\n",
       "      <td>0</td>\n",
       "      <td>1</td>\n",
       "      <td>6</td>\n",
       "      <td>6.0</td>\n",
       "      <td>0.0</td>\n",
       "      <td>1.0</td>\n",
       "      <td>6</td>\n",
       "      <td>6</td>\n",
       "      <td>0.0</td>\n",
       "      <td>0.0</td>\n",
       "      <td>0.0</td>\n",
       "      <td>UPW</td>\n",
       "      <td>20</td>\n",
       "      <td>6</td>\n",
       "      <td>2016</td>\n",
       "    </tr>\n",
       "    <tr>\n",
       "      <th>15</th>\n",
       "      <td>0</td>\n",
       "      <td>1037.0</td>\n",
       "      <td>12.000000</td>\n",
       "      <td>12.000000</td>\n",
       "      <td>1216.80</td>\n",
       "      <td>1216.80</td>\n",
       "      <td>0.0</td>\n",
       "      <td>0.0</td>\n",
       "      <td>0</td>\n",
       "      <td>0</td>\n",
       "      <td>0.0</td>\n",
       "      <td>0.0</td>\n",
       "      <td>0.0</td>\n",
       "      <td>0.00</td>\n",
       "      <td>0</td>\n",
       "      <td>0</td>\n",
       "      <td>0</td>\n",
       "      <td>0.0</td>\n",
       "      <td>0.00</td>\n",
       "      <td>0.0</td>\n",
       "      <td>0.0</td>\n",
       "      <td>0</td>\n",
       "      <td>0</td>\n",
       "      <td>1</td>\n",
       "      <td>6</td>\n",
       "      <td>6.0</td>\n",
       "      <td>0.0</td>\n",
       "      <td>1.0</td>\n",
       "      <td>6</td>\n",
       "      <td>6</td>\n",
       "      <td>0.0</td>\n",
       "      <td>0.0</td>\n",
       "      <td>0.0</td>\n",
       "      <td>UPW</td>\n",
       "      <td>24</td>\n",
       "      <td>6</td>\n",
       "      <td>2016</td>\n",
       "    </tr>\n",
       "    <tr>\n",
       "      <th>16</th>\n",
       "      <td>0</td>\n",
       "      <td>1583.0</td>\n",
       "      <td>1000.000000</td>\n",
       "      <td>1000.000000</td>\n",
       "      <td>1000.80</td>\n",
       "      <td>1087.88</td>\n",
       "      <td>0.0</td>\n",
       "      <td>0.0</td>\n",
       "      <td>0</td>\n",
       "      <td>0</td>\n",
       "      <td>0.0</td>\n",
       "      <td>0.0</td>\n",
       "      <td>0.0</td>\n",
       "      <td>0.00</td>\n",
       "      <td>0</td>\n",
       "      <td>0</td>\n",
       "      <td>0</td>\n",
       "      <td>0.0</td>\n",
       "      <td>0.00</td>\n",
       "      <td>0.0</td>\n",
       "      <td>0.0</td>\n",
       "      <td>0</td>\n",
       "      <td>0</td>\n",
       "      <td>1</td>\n",
       "      <td>6</td>\n",
       "      <td>6.0</td>\n",
       "      <td>0.0</td>\n",
       "      <td>1.0</td>\n",
       "      <td>6</td>\n",
       "      <td>6</td>\n",
       "      <td>0.0</td>\n",
       "      <td>0.0</td>\n",
       "      <td>0.0</td>\n",
       "      <td>UPW</td>\n",
       "      <td>4</td>\n",
       "      <td>7</td>\n",
       "      <td>2016</td>\n",
       "    </tr>\n",
       "    <tr>\n",
       "      <th>21</th>\n",
       "      <td>0</td>\n",
       "      <td>378.0</td>\n",
       "      <td>514.693333</td>\n",
       "      <td>515.200000</td>\n",
       "      <td>56.26</td>\n",
       "      <td>58.20</td>\n",
       "      <td>2.0</td>\n",
       "      <td>0.0</td>\n",
       "      <td>773</td>\n",
       "      <td>1</td>\n",
       "      <td>0.0</td>\n",
       "      <td>773.0</td>\n",
       "      <td>773.0</td>\n",
       "      <td>542.00</td>\n",
       "      <td>2</td>\n",
       "      <td>64</td>\n",
       "      <td>1546</td>\n",
       "      <td>773.0</td>\n",
       "      <td>283.50</td>\n",
       "      <td>0.0</td>\n",
       "      <td>0.0</td>\n",
       "      <td>0</td>\n",
       "      <td>0</td>\n",
       "      <td>2</td>\n",
       "      <td>12</td>\n",
       "      <td>6.0</td>\n",
       "      <td>0.0</td>\n",
       "      <td>2.0</td>\n",
       "      <td>12</td>\n",
       "      <td>6</td>\n",
       "      <td>0.0</td>\n",
       "      <td>0.0</td>\n",
       "      <td>0.0</td>\n",
       "      <td>UPW</td>\n",
       "      <td>1</td>\n",
       "      <td>7</td>\n",
       "      <td>2016</td>\n",
       "    </tr>\n",
       "    <tr>\n",
       "      <th>...</th>\n",
       "      <td>...</td>\n",
       "      <td>...</td>\n",
       "      <td>...</td>\n",
       "      <td>...</td>\n",
       "      <td>...</td>\n",
       "      <td>...</td>\n",
       "      <td>...</td>\n",
       "      <td>...</td>\n",
       "      <td>...</td>\n",
       "      <td>...</td>\n",
       "      <td>...</td>\n",
       "      <td>...</td>\n",
       "      <td>...</td>\n",
       "      <td>...</td>\n",
       "      <td>...</td>\n",
       "      <td>...</td>\n",
       "      <td>...</td>\n",
       "      <td>...</td>\n",
       "      <td>...</td>\n",
       "      <td>...</td>\n",
       "      <td>...</td>\n",
       "      <td>...</td>\n",
       "      <td>...</td>\n",
       "      <td>...</td>\n",
       "      <td>...</td>\n",
       "      <td>...</td>\n",
       "      <td>...</td>\n",
       "      <td>...</td>\n",
       "      <td>...</td>\n",
       "      <td>...</td>\n",
       "      <td>...</td>\n",
       "      <td>...</td>\n",
       "      <td>...</td>\n",
       "      <td>...</td>\n",
       "      <td>...</td>\n",
       "      <td>...</td>\n",
       "      <td>...</td>\n",
       "    </tr>\n",
       "    <tr>\n",
       "      <th>209547</th>\n",
       "      <td>0</td>\n",
       "      <td>153.0</td>\n",
       "      <td>5670.733333</td>\n",
       "      <td>5672.200000</td>\n",
       "      <td>1817.08</td>\n",
       "      <td>2764.88</td>\n",
       "      <td>0.0</td>\n",
       "      <td>0.0</td>\n",
       "      <td>0</td>\n",
       "      <td>0</td>\n",
       "      <td>0.0</td>\n",
       "      <td>0.0</td>\n",
       "      <td>0.0</td>\n",
       "      <td>0.00</td>\n",
       "      <td>0</td>\n",
       "      <td>0</td>\n",
       "      <td>0</td>\n",
       "      <td>0.0</td>\n",
       "      <td>0.00</td>\n",
       "      <td>0.0</td>\n",
       "      <td>0.0</td>\n",
       "      <td>0</td>\n",
       "      <td>0</td>\n",
       "      <td>1</td>\n",
       "      <td>6</td>\n",
       "      <td>6.0</td>\n",
       "      <td>0.0</td>\n",
       "      <td>1.0</td>\n",
       "      <td>6</td>\n",
       "      <td>6</td>\n",
       "      <td>0.0</td>\n",
       "      <td>0.0</td>\n",
       "      <td>0.0</td>\n",
       "      <td>UPW</td>\n",
       "      <td>20</td>\n",
       "      <td>7</td>\n",
       "      <td>2016</td>\n",
       "    </tr>\n",
       "    <tr>\n",
       "      <th>209549</th>\n",
       "      <td>0</td>\n",
       "      <td>843.0</td>\n",
       "      <td>729.235000</td>\n",
       "      <td>758.470000</td>\n",
       "      <td>7470.90</td>\n",
       "      <td>9537.90</td>\n",
       "      <td>1.0</td>\n",
       "      <td>0.0</td>\n",
       "      <td>770</td>\n",
       "      <td>1</td>\n",
       "      <td>0.0</td>\n",
       "      <td>770.0</td>\n",
       "      <td>770.0</td>\n",
       "      <td>19.82</td>\n",
       "      <td>2</td>\n",
       "      <td>40</td>\n",
       "      <td>6557</td>\n",
       "      <td>3278.5</td>\n",
       "      <td>49.82</td>\n",
       "      <td>0.0</td>\n",
       "      <td>0.0</td>\n",
       "      <td>0</td>\n",
       "      <td>0</td>\n",
       "      <td>1</td>\n",
       "      <td>6</td>\n",
       "      <td>6.0</td>\n",
       "      <td>0.0</td>\n",
       "      <td>2.0</td>\n",
       "      <td>12</td>\n",
       "      <td>6</td>\n",
       "      <td>0.0</td>\n",
       "      <td>0.0</td>\n",
       "      <td>25.5</td>\n",
       "      <td>UPW</td>\n",
       "      <td>15</td>\n",
       "      <td>7</td>\n",
       "      <td>2016</td>\n",
       "    </tr>\n",
       "    <tr>\n",
       "      <th>209554</th>\n",
       "      <td>0</td>\n",
       "      <td>744.0</td>\n",
       "      <td>1454.491667</td>\n",
       "      <td>1461.750000</td>\n",
       "      <td>559.73</td>\n",
       "      <td>655.28</td>\n",
       "      <td>31.0</td>\n",
       "      <td>0.0</td>\n",
       "      <td>2309</td>\n",
       "      <td>0</td>\n",
       "      <td>0.0</td>\n",
       "      <td>0.0</td>\n",
       "      <td>0.0</td>\n",
       "      <td>0.00</td>\n",
       "      <td>1</td>\n",
       "      <td>0</td>\n",
       "      <td>2309</td>\n",
       "      <td>2309.0</td>\n",
       "      <td>20.00</td>\n",
       "      <td>0.0</td>\n",
       "      <td>0.0</td>\n",
       "      <td>0</td>\n",
       "      <td>0</td>\n",
       "      <td>1</td>\n",
       "      <td>6</td>\n",
       "      <td>6.0</td>\n",
       "      <td>0.0</td>\n",
       "      <td>1.0</td>\n",
       "      <td>6</td>\n",
       "      <td>6</td>\n",
       "      <td>0.0</td>\n",
       "      <td>0.0</td>\n",
       "      <td>0.0</td>\n",
       "      <td>UPW</td>\n",
       "      <td>13</td>\n",
       "      <td>7</td>\n",
       "      <td>2016</td>\n",
       "    </tr>\n",
       "    <tr>\n",
       "      <th>209571</th>\n",
       "      <td>0</td>\n",
       "      <td>827.0</td>\n",
       "      <td>1867.668667</td>\n",
       "      <td>1881.180000</td>\n",
       "      <td>1875.72</td>\n",
       "      <td>2312.65</td>\n",
       "      <td>14.0</td>\n",
       "      <td>0.0</td>\n",
       "      <td>1924</td>\n",
       "      <td>2</td>\n",
       "      <td>3.0</td>\n",
       "      <td>3848.0</td>\n",
       "      <td>1924.0</td>\n",
       "      <td>6.20</td>\n",
       "      <td>2</td>\n",
       "      <td>3</td>\n",
       "      <td>3848</td>\n",
       "      <td>1924.0</td>\n",
       "      <td>6.20</td>\n",
       "      <td>0.0</td>\n",
       "      <td>0.0</td>\n",
       "      <td>0</td>\n",
       "      <td>0</td>\n",
       "      <td>1</td>\n",
       "      <td>6</td>\n",
       "      <td>6.0</td>\n",
       "      <td>0.0</td>\n",
       "      <td>1.0</td>\n",
       "      <td>6</td>\n",
       "      <td>6</td>\n",
       "      <td>0.0</td>\n",
       "      <td>0.0</td>\n",
       "      <td>0.0</td>\n",
       "      <td>UPW</td>\n",
       "      <td>13</td>\n",
       "      <td>7</td>\n",
       "      <td>2016</td>\n",
       "    </tr>\n",
       "    <tr>\n",
       "      <th>209584</th>\n",
       "      <td>0</td>\n",
       "      <td>945.0</td>\n",
       "      <td>0.000000</td>\n",
       "      <td>0.000000</td>\n",
       "      <td>78.30</td>\n",
       "      <td>78.30</td>\n",
       "      <td>0.0</td>\n",
       "      <td>0.0</td>\n",
       "      <td>0</td>\n",
       "      <td>0</td>\n",
       "      <td>0.0</td>\n",
       "      <td>0.0</td>\n",
       "      <td>0.0</td>\n",
       "      <td>0.00</td>\n",
       "      <td>0</td>\n",
       "      <td>0</td>\n",
       "      <td>0</td>\n",
       "      <td>0.0</td>\n",
       "      <td>0.00</td>\n",
       "      <td>0.0</td>\n",
       "      <td>0.0</td>\n",
       "      <td>0</td>\n",
       "      <td>0</td>\n",
       "      <td>1</td>\n",
       "      <td>6</td>\n",
       "      <td>6.0</td>\n",
       "      <td>0.0</td>\n",
       "      <td>1.0</td>\n",
       "      <td>6</td>\n",
       "      <td>6</td>\n",
       "      <td>0.0</td>\n",
       "      <td>0.0</td>\n",
       "      <td>0.0</td>\n",
       "      <td>UPW</td>\n",
       "      <td>6</td>\n",
       "      <td>6</td>\n",
       "      <td>2016</td>\n",
       "    </tr>\n",
       "  </tbody>\n",
       "</table>\n",
       "<p>26162 rows × 37 columns</p>\n",
       "</div>"
      ],
      "text/plain": [
       "        label     aon  daily_decr30  daily_decr90  ...  pcircle  Day  Month  Year\n",
       "0           0   272.0   3055.050000   3065.150000  ...      UPW   20      7  2016\n",
       "11          0    82.0     65.166667     65.166667  ...      UPW   20      6  2016\n",
       "15          0  1037.0     12.000000     12.000000  ...      UPW   24      6  2016\n",
       "16          0  1583.0   1000.000000   1000.000000  ...      UPW    4      7  2016\n",
       "21          0   378.0    514.693333    515.200000  ...      UPW    1      7  2016\n",
       "...       ...     ...           ...           ...  ...      ...  ...    ...   ...\n",
       "209547      0   153.0   5670.733333   5672.200000  ...      UPW   20      7  2016\n",
       "209549      0   843.0    729.235000    758.470000  ...      UPW   15      7  2016\n",
       "209554      0   744.0   1454.491667   1461.750000  ...      UPW   13      7  2016\n",
       "209571      0   827.0   1867.668667   1881.180000  ...      UPW   13      7  2016\n",
       "209584      0   945.0      0.000000      0.000000  ...      UPW    6      6  2016\n",
       "\n",
       "[26162 rows x 37 columns]"
      ]
     },
     "execution_count": 32,
     "metadata": {
      "tags": []
     },
     "output_type": "execute_result"
    }
   ],
   "source": [
    "defaulter=mcred[mcred['label']==0]\n",
    "defaulter"
   ]
  },
  {
   "cell_type": "code",
   "execution_count": 33,
   "metadata": {
    "colab": {
     "base_uri": "https://localhost:8080/",
     "height": 439
    },
    "executionInfo": {
     "elapsed": 21442,
     "status": "ok",
     "timestamp": 1619521512093,
     "user": {
      "displayName": "laxmikant deepak",
      "photoUrl": "",
      "userId": "06864753657209095717"
     },
     "user_tz": -330
    },
    "id": "p4xPx8Cl3R6H",
    "outputId": "457f7d97-0dfe-4f3f-ad05-a779760223aa"
   },
   "outputs": [
    {
     "data": {
      "text/html": [
       "<div>\n",
       "<style scoped>\n",
       "    .dataframe tbody tr th:only-of-type {\n",
       "        vertical-align: middle;\n",
       "    }\n",
       "\n",
       "    .dataframe tbody tr th {\n",
       "        vertical-align: top;\n",
       "    }\n",
       "\n",
       "    .dataframe thead th {\n",
       "        text-align: right;\n",
       "    }\n",
       "</style>\n",
       "<table border=\"1\" class=\"dataframe\">\n",
       "  <thead>\n",
       "    <tr style=\"text-align: right;\">\n",
       "      <th></th>\n",
       "      <th>label</th>\n",
       "      <th>aon</th>\n",
       "      <th>daily_decr30</th>\n",
       "      <th>daily_decr90</th>\n",
       "      <th>rental30</th>\n",
       "      <th>rental90</th>\n",
       "      <th>last_rech_date_ma</th>\n",
       "      <th>last_rech_date_da</th>\n",
       "      <th>last_rech_amt_ma</th>\n",
       "      <th>cnt_ma_rech30</th>\n",
       "      <th>fr_ma_rech30</th>\n",
       "      <th>sumamnt_ma_rech30</th>\n",
       "      <th>medianamnt_ma_rech30</th>\n",
       "      <th>medianmarechprebal30</th>\n",
       "      <th>cnt_ma_rech90</th>\n",
       "      <th>fr_ma_rech90</th>\n",
       "      <th>sumamnt_ma_rech90</th>\n",
       "      <th>medianamnt_ma_rech90</th>\n",
       "      <th>medianmarechprebal90</th>\n",
       "      <th>cnt_da_rech30</th>\n",
       "      <th>fr_da_rech30</th>\n",
       "      <th>cnt_da_rech90</th>\n",
       "      <th>fr_da_rech90</th>\n",
       "      <th>cnt_loans30</th>\n",
       "      <th>amnt_loans30</th>\n",
       "      <th>maxamnt_loans30</th>\n",
       "      <th>medianamnt_loans30</th>\n",
       "      <th>cnt_loans90</th>\n",
       "      <th>amnt_loans90</th>\n",
       "      <th>maxamnt_loans90</th>\n",
       "      <th>medianamnt_loans90</th>\n",
       "      <th>payback30</th>\n",
       "      <th>payback90</th>\n",
       "    </tr>\n",
       "  </thead>\n",
       "  <tbody>\n",
       "    <tr>\n",
       "      <th>0</th>\n",
       "      <td>0</td>\n",
       "      <td>272.0</td>\n",
       "      <td>3055.050000</td>\n",
       "      <td>3065.150000</td>\n",
       "      <td>220.13</td>\n",
       "      <td>260.13</td>\n",
       "      <td>2.0</td>\n",
       "      <td>0.0</td>\n",
       "      <td>1539</td>\n",
       "      <td>2</td>\n",
       "      <td>21.0</td>\n",
       "      <td>3078.0</td>\n",
       "      <td>1539.0</td>\n",
       "      <td>7.50</td>\n",
       "      <td>2</td>\n",
       "      <td>21</td>\n",
       "      <td>3078</td>\n",
       "      <td>1539.0</td>\n",
       "      <td>7.50</td>\n",
       "      <td>0.0</td>\n",
       "      <td>0.0</td>\n",
       "      <td>0</td>\n",
       "      <td>0</td>\n",
       "      <td>2</td>\n",
       "      <td>12</td>\n",
       "      <td>6.0</td>\n",
       "      <td>0.0</td>\n",
       "      <td>2.0</td>\n",
       "      <td>12</td>\n",
       "      <td>6</td>\n",
       "      <td>0.0</td>\n",
       "      <td>29.0</td>\n",
       "      <td>29.0</td>\n",
       "    </tr>\n",
       "    <tr>\n",
       "      <th>11</th>\n",
       "      <td>0</td>\n",
       "      <td>82.0</td>\n",
       "      <td>65.166667</td>\n",
       "      <td>65.166667</td>\n",
       "      <td>326.20</td>\n",
       "      <td>326.20</td>\n",
       "      <td>17.0</td>\n",
       "      <td>0.0</td>\n",
       "      <td>7526</td>\n",
       "      <td>2</td>\n",
       "      <td>0.0</td>\n",
       "      <td>9065.0</td>\n",
       "      <td>4532.5</td>\n",
       "      <td>489.00</td>\n",
       "      <td>2</td>\n",
       "      <td>0</td>\n",
       "      <td>9065</td>\n",
       "      <td>4532.5</td>\n",
       "      <td>489.00</td>\n",
       "      <td>0.0</td>\n",
       "      <td>0.0</td>\n",
       "      <td>0</td>\n",
       "      <td>0</td>\n",
       "      <td>1</td>\n",
       "      <td>6</td>\n",
       "      <td>6.0</td>\n",
       "      <td>0.0</td>\n",
       "      <td>1.0</td>\n",
       "      <td>6</td>\n",
       "      <td>6</td>\n",
       "      <td>0.0</td>\n",
       "      <td>0.0</td>\n",
       "      <td>0.0</td>\n",
       "    </tr>\n",
       "    <tr>\n",
       "      <th>15</th>\n",
       "      <td>0</td>\n",
       "      <td>1037.0</td>\n",
       "      <td>12.000000</td>\n",
       "      <td>12.000000</td>\n",
       "      <td>1216.80</td>\n",
       "      <td>1216.80</td>\n",
       "      <td>0.0</td>\n",
       "      <td>0.0</td>\n",
       "      <td>0</td>\n",
       "      <td>0</td>\n",
       "      <td>0.0</td>\n",
       "      <td>0.0</td>\n",
       "      <td>0.0</td>\n",
       "      <td>0.00</td>\n",
       "      <td>0</td>\n",
       "      <td>0</td>\n",
       "      <td>0</td>\n",
       "      <td>0.0</td>\n",
       "      <td>0.00</td>\n",
       "      <td>0.0</td>\n",
       "      <td>0.0</td>\n",
       "      <td>0</td>\n",
       "      <td>0</td>\n",
       "      <td>1</td>\n",
       "      <td>6</td>\n",
       "      <td>6.0</td>\n",
       "      <td>0.0</td>\n",
       "      <td>1.0</td>\n",
       "      <td>6</td>\n",
       "      <td>6</td>\n",
       "      <td>0.0</td>\n",
       "      <td>0.0</td>\n",
       "      <td>0.0</td>\n",
       "    </tr>\n",
       "    <tr>\n",
       "      <th>16</th>\n",
       "      <td>0</td>\n",
       "      <td>1583.0</td>\n",
       "      <td>1000.000000</td>\n",
       "      <td>1000.000000</td>\n",
       "      <td>1000.80</td>\n",
       "      <td>1087.88</td>\n",
       "      <td>0.0</td>\n",
       "      <td>0.0</td>\n",
       "      <td>0</td>\n",
       "      <td>0</td>\n",
       "      <td>0.0</td>\n",
       "      <td>0.0</td>\n",
       "      <td>0.0</td>\n",
       "      <td>0.00</td>\n",
       "      <td>0</td>\n",
       "      <td>0</td>\n",
       "      <td>0</td>\n",
       "      <td>0.0</td>\n",
       "      <td>0.00</td>\n",
       "      <td>0.0</td>\n",
       "      <td>0.0</td>\n",
       "      <td>0</td>\n",
       "      <td>0</td>\n",
       "      <td>1</td>\n",
       "      <td>6</td>\n",
       "      <td>6.0</td>\n",
       "      <td>0.0</td>\n",
       "      <td>1.0</td>\n",
       "      <td>6</td>\n",
       "      <td>6</td>\n",
       "      <td>0.0</td>\n",
       "      <td>0.0</td>\n",
       "      <td>0.0</td>\n",
       "    </tr>\n",
       "    <tr>\n",
       "      <th>21</th>\n",
       "      <td>0</td>\n",
       "      <td>378.0</td>\n",
       "      <td>514.693333</td>\n",
       "      <td>515.200000</td>\n",
       "      <td>56.26</td>\n",
       "      <td>58.20</td>\n",
       "      <td>2.0</td>\n",
       "      <td>0.0</td>\n",
       "      <td>773</td>\n",
       "      <td>1</td>\n",
       "      <td>0.0</td>\n",
       "      <td>773.0</td>\n",
       "      <td>773.0</td>\n",
       "      <td>542.00</td>\n",
       "      <td>2</td>\n",
       "      <td>64</td>\n",
       "      <td>1546</td>\n",
       "      <td>773.0</td>\n",
       "      <td>283.50</td>\n",
       "      <td>0.0</td>\n",
       "      <td>0.0</td>\n",
       "      <td>0</td>\n",
       "      <td>0</td>\n",
       "      <td>2</td>\n",
       "      <td>12</td>\n",
       "      <td>6.0</td>\n",
       "      <td>0.0</td>\n",
       "      <td>2.0</td>\n",
       "      <td>12</td>\n",
       "      <td>6</td>\n",
       "      <td>0.0</td>\n",
       "      <td>0.0</td>\n",
       "      <td>0.0</td>\n",
       "    </tr>\n",
       "    <tr>\n",
       "      <th>...</th>\n",
       "      <td>...</td>\n",
       "      <td>...</td>\n",
       "      <td>...</td>\n",
       "      <td>...</td>\n",
       "      <td>...</td>\n",
       "      <td>...</td>\n",
       "      <td>...</td>\n",
       "      <td>...</td>\n",
       "      <td>...</td>\n",
       "      <td>...</td>\n",
       "      <td>...</td>\n",
       "      <td>...</td>\n",
       "      <td>...</td>\n",
       "      <td>...</td>\n",
       "      <td>...</td>\n",
       "      <td>...</td>\n",
       "      <td>...</td>\n",
       "      <td>...</td>\n",
       "      <td>...</td>\n",
       "      <td>...</td>\n",
       "      <td>...</td>\n",
       "      <td>...</td>\n",
       "      <td>...</td>\n",
       "      <td>...</td>\n",
       "      <td>...</td>\n",
       "      <td>...</td>\n",
       "      <td>...</td>\n",
       "      <td>...</td>\n",
       "      <td>...</td>\n",
       "      <td>...</td>\n",
       "      <td>...</td>\n",
       "      <td>...</td>\n",
       "      <td>...</td>\n",
       "    </tr>\n",
       "    <tr>\n",
       "      <th>209547</th>\n",
       "      <td>0</td>\n",
       "      <td>153.0</td>\n",
       "      <td>5670.733333</td>\n",
       "      <td>5672.200000</td>\n",
       "      <td>1817.08</td>\n",
       "      <td>2764.88</td>\n",
       "      <td>0.0</td>\n",
       "      <td>0.0</td>\n",
       "      <td>0</td>\n",
       "      <td>0</td>\n",
       "      <td>0.0</td>\n",
       "      <td>0.0</td>\n",
       "      <td>0.0</td>\n",
       "      <td>0.00</td>\n",
       "      <td>0</td>\n",
       "      <td>0</td>\n",
       "      <td>0</td>\n",
       "      <td>0.0</td>\n",
       "      <td>0.00</td>\n",
       "      <td>0.0</td>\n",
       "      <td>0.0</td>\n",
       "      <td>0</td>\n",
       "      <td>0</td>\n",
       "      <td>1</td>\n",
       "      <td>6</td>\n",
       "      <td>6.0</td>\n",
       "      <td>0.0</td>\n",
       "      <td>1.0</td>\n",
       "      <td>6</td>\n",
       "      <td>6</td>\n",
       "      <td>0.0</td>\n",
       "      <td>0.0</td>\n",
       "      <td>0.0</td>\n",
       "    </tr>\n",
       "    <tr>\n",
       "      <th>209549</th>\n",
       "      <td>0</td>\n",
       "      <td>843.0</td>\n",
       "      <td>729.235000</td>\n",
       "      <td>758.470000</td>\n",
       "      <td>7470.90</td>\n",
       "      <td>9537.90</td>\n",
       "      <td>1.0</td>\n",
       "      <td>0.0</td>\n",
       "      <td>770</td>\n",
       "      <td>1</td>\n",
       "      <td>0.0</td>\n",
       "      <td>770.0</td>\n",
       "      <td>770.0</td>\n",
       "      <td>19.82</td>\n",
       "      <td>2</td>\n",
       "      <td>40</td>\n",
       "      <td>6557</td>\n",
       "      <td>3278.5</td>\n",
       "      <td>49.82</td>\n",
       "      <td>0.0</td>\n",
       "      <td>0.0</td>\n",
       "      <td>0</td>\n",
       "      <td>0</td>\n",
       "      <td>1</td>\n",
       "      <td>6</td>\n",
       "      <td>6.0</td>\n",
       "      <td>0.0</td>\n",
       "      <td>2.0</td>\n",
       "      <td>12</td>\n",
       "      <td>6</td>\n",
       "      <td>0.0</td>\n",
       "      <td>0.0</td>\n",
       "      <td>25.5</td>\n",
       "    </tr>\n",
       "    <tr>\n",
       "      <th>209554</th>\n",
       "      <td>0</td>\n",
       "      <td>744.0</td>\n",
       "      <td>1454.491667</td>\n",
       "      <td>1461.750000</td>\n",
       "      <td>559.73</td>\n",
       "      <td>655.28</td>\n",
       "      <td>31.0</td>\n",
       "      <td>0.0</td>\n",
       "      <td>2309</td>\n",
       "      <td>0</td>\n",
       "      <td>0.0</td>\n",
       "      <td>0.0</td>\n",
       "      <td>0.0</td>\n",
       "      <td>0.00</td>\n",
       "      <td>1</td>\n",
       "      <td>0</td>\n",
       "      <td>2309</td>\n",
       "      <td>2309.0</td>\n",
       "      <td>20.00</td>\n",
       "      <td>0.0</td>\n",
       "      <td>0.0</td>\n",
       "      <td>0</td>\n",
       "      <td>0</td>\n",
       "      <td>1</td>\n",
       "      <td>6</td>\n",
       "      <td>6.0</td>\n",
       "      <td>0.0</td>\n",
       "      <td>1.0</td>\n",
       "      <td>6</td>\n",
       "      <td>6</td>\n",
       "      <td>0.0</td>\n",
       "      <td>0.0</td>\n",
       "      <td>0.0</td>\n",
       "    </tr>\n",
       "    <tr>\n",
       "      <th>209571</th>\n",
       "      <td>0</td>\n",
       "      <td>827.0</td>\n",
       "      <td>1867.668667</td>\n",
       "      <td>1881.180000</td>\n",
       "      <td>1875.72</td>\n",
       "      <td>2312.65</td>\n",
       "      <td>14.0</td>\n",
       "      <td>0.0</td>\n",
       "      <td>1924</td>\n",
       "      <td>2</td>\n",
       "      <td>3.0</td>\n",
       "      <td>3848.0</td>\n",
       "      <td>1924.0</td>\n",
       "      <td>6.20</td>\n",
       "      <td>2</td>\n",
       "      <td>3</td>\n",
       "      <td>3848</td>\n",
       "      <td>1924.0</td>\n",
       "      <td>6.20</td>\n",
       "      <td>0.0</td>\n",
       "      <td>0.0</td>\n",
       "      <td>0</td>\n",
       "      <td>0</td>\n",
       "      <td>1</td>\n",
       "      <td>6</td>\n",
       "      <td>6.0</td>\n",
       "      <td>0.0</td>\n",
       "      <td>1.0</td>\n",
       "      <td>6</td>\n",
       "      <td>6</td>\n",
       "      <td>0.0</td>\n",
       "      <td>0.0</td>\n",
       "      <td>0.0</td>\n",
       "    </tr>\n",
       "    <tr>\n",
       "      <th>209584</th>\n",
       "      <td>0</td>\n",
       "      <td>945.0</td>\n",
       "      <td>0.000000</td>\n",
       "      <td>0.000000</td>\n",
       "      <td>78.30</td>\n",
       "      <td>78.30</td>\n",
       "      <td>0.0</td>\n",
       "      <td>0.0</td>\n",
       "      <td>0</td>\n",
       "      <td>0</td>\n",
       "      <td>0.0</td>\n",
       "      <td>0.0</td>\n",
       "      <td>0.0</td>\n",
       "      <td>0.00</td>\n",
       "      <td>0</td>\n",
       "      <td>0</td>\n",
       "      <td>0</td>\n",
       "      <td>0.0</td>\n",
       "      <td>0.00</td>\n",
       "      <td>0.0</td>\n",
       "      <td>0.0</td>\n",
       "      <td>0</td>\n",
       "      <td>0</td>\n",
       "      <td>1</td>\n",
       "      <td>6</td>\n",
       "      <td>6.0</td>\n",
       "      <td>0.0</td>\n",
       "      <td>1.0</td>\n",
       "      <td>6</td>\n",
       "      <td>6</td>\n",
       "      <td>0.0</td>\n",
       "      <td>0.0</td>\n",
       "      <td>0.0</td>\n",
       "    </tr>\n",
       "  </tbody>\n",
       "</table>\n",
       "<p>26162 rows × 33 columns</p>\n",
       "</div>"
      ],
      "text/plain": [
       "        label     aon  daily_decr30  ...  medianamnt_loans90  payback30  payback90\n",
       "0           0   272.0   3055.050000  ...                 0.0       29.0       29.0\n",
       "11          0    82.0     65.166667  ...                 0.0        0.0        0.0\n",
       "15          0  1037.0     12.000000  ...                 0.0        0.0        0.0\n",
       "16          0  1583.0   1000.000000  ...                 0.0        0.0        0.0\n",
       "21          0   378.0    514.693333  ...                 0.0        0.0        0.0\n",
       "...       ...     ...           ...  ...                 ...        ...        ...\n",
       "209547      0   153.0   5670.733333  ...                 0.0        0.0        0.0\n",
       "209549      0   843.0    729.235000  ...                 0.0        0.0       25.5\n",
       "209554      0   744.0   1454.491667  ...                 0.0        0.0        0.0\n",
       "209571      0   827.0   1867.668667  ...                 0.0        0.0        0.0\n",
       "209584      0   945.0      0.000000  ...                 0.0        0.0        0.0\n",
       "\n",
       "[26162 rows x 33 columns]"
      ]
     },
     "execution_count": 33,
     "metadata": {
      "tags": []
     },
     "output_type": "execute_result"
    }
   ],
   "source": [
    "dt2=defaulter.iloc[:,:-4]\n",
    "dt2"
   ]
  },
  {
   "cell_type": "code",
   "execution_count": 34,
   "metadata": {
    "colab": {
     "base_uri": "https://localhost:8080/",
     "height": 279
    },
    "executionInfo": {
     "elapsed": 21425,
     "status": "ok",
     "timestamp": 1619521512095,
     "user": {
      "displayName": "laxmikant deepak",
      "photoUrl": "",
      "userId": "06864753657209095717"
     },
     "user_tz": -330
    },
    "id": "nf8G8sJ0hGXX",
    "outputId": "da338cbe-ada7-4f91-de6b-21f4108b7c43"
   },
   "outputs": [
    {
     "data": {
      "image/png": "[encoded data removed]",
      "text/plain": [
       "<Figure size 432x288 with 1 Axes>"
      ]
     },
     "metadata": {
      "needs_background": "light",
      "tags": []
     },
     "output_type": "display_data"
    }
   ],
   "source": [
    "sns.countplot(mcred.pcircle)\n",
    "plt.show()"
   ]
  },
  {
   "cell_type": "code",
   "execution_count": 35,
   "metadata": {
    "colab": {
     "base_uri": "https://localhost:8080/",
     "height": 386
    },
    "executionInfo": {
     "elapsed": 21411,
     "status": "ok",
     "timestamp": 1619521512096,
     "user": {
      "displayName": "laxmikant deepak",
      "photoUrl": "",
      "userId": "06864753657209095717"
     },
     "user_tz": -330
    },
    "id": "UWY00DwUuReY",
    "outputId": "e530d166-3fed-41fe-d03e-7600dec517e5"
   },
   "outputs": [
    {
     "data": {
      "text/plain": [
       "<seaborn.axisgrid.FacetGrid at 0x7fe6b8e13410>"
      ]
     },
     "execution_count": 35,
     "metadata": {
      "tags": []
     },
     "output_type": "execute_result"
    },
    {
     "data": {
      "image/png": "[encoded data removed]",
      "text/plain": [
       "<Figure size 360x360 with 1 Axes>"
      ]
     },
     "metadata": {
      "needs_background": "light",
      "tags": []
     },
     "output_type": "display_data"
    }
   ],
   "source": [
    "sns.displot(mcred.last_rech_date_da)"
   ]
  },
  {
   "cell_type": "code",
   "execution_count": 36,
   "metadata": {
    "executionInfo": {
     "elapsed": 21402,
     "status": "ok",
     "timestamp": 1619521512098,
     "user": {
      "displayName": "laxmikant deepak",
      "photoUrl": "",
      "userId": "06864753657209095717"
     },
     "user_tz": -330
    },
    "id": "y61hd5-FhGXr"
   },
   "outputs": [],
   "source": [
    "y=mcred.iloc[:,0]"
   ]
  },
  {
   "cell_type": "code",
   "execution_count": 37,
   "metadata": {
    "executionInfo": {
     "elapsed": 21396,
     "status": "ok",
     "timestamp": 1619521512099,
     "user": {
      "displayName": "laxmikant deepak",
      "photoUrl": "",
      "userId": "06864753657209095717"
     },
     "user_tz": -330
    },
    "id": "zoHJqWt3hGXs"
   },
   "outputs": [],
   "source": [
    "x=mcred.iloc[:,1:-4]"
   ]
  },
  {
   "cell_type": "code",
   "execution_count": 38,
   "metadata": {
    "colab": {
     "base_uri": "https://localhost:8080/",
     "height": 439
    },
    "executionInfo": {
     "elapsed": 21389,
     "status": "ok",
     "timestamp": 1619521512101,
     "user": {
      "displayName": "laxmikant deepak",
      "photoUrl": "",
      "userId": "06864753657209095717"
     },
     "user_tz": -330
    },
    "id": "hB9UaMfqhGXs",
    "outputId": "5c6e555b-5078-4fd1-86c0-0ef3cb8d4452"
   },
   "outputs": [
    {
     "data": {
      "text/html": [
       "<div>\n",
       "<style scoped>\n",
       "    .dataframe tbody tr th:only-of-type {\n",
       "        vertical-align: middle;\n",
       "    }\n",
       "\n",
       "    .dataframe tbody tr th {\n",
       "        vertical-align: top;\n",
       "    }\n",
       "\n",
       "    .dataframe thead th {\n",
       "        text-align: right;\n",
       "    }\n",
       "</style>\n",
       "<table border=\"1\" class=\"dataframe\">\n",
       "  <thead>\n",
       "    <tr style=\"text-align: right;\">\n",
       "      <th></th>\n",
       "      <th>aon</th>\n",
       "      <th>daily_decr30</th>\n",
       "      <th>daily_decr90</th>\n",
       "      <th>rental30</th>\n",
       "      <th>rental90</th>\n",
       "      <th>last_rech_date_ma</th>\n",
       "      <th>last_rech_date_da</th>\n",
       "      <th>last_rech_amt_ma</th>\n",
       "      <th>cnt_ma_rech30</th>\n",
       "      <th>fr_ma_rech30</th>\n",
       "      <th>sumamnt_ma_rech30</th>\n",
       "      <th>medianamnt_ma_rech30</th>\n",
       "      <th>medianmarechprebal30</th>\n",
       "      <th>cnt_ma_rech90</th>\n",
       "      <th>fr_ma_rech90</th>\n",
       "      <th>sumamnt_ma_rech90</th>\n",
       "      <th>medianamnt_ma_rech90</th>\n",
       "      <th>medianmarechprebal90</th>\n",
       "      <th>cnt_da_rech30</th>\n",
       "      <th>fr_da_rech30</th>\n",
       "      <th>cnt_da_rech90</th>\n",
       "      <th>fr_da_rech90</th>\n",
       "      <th>cnt_loans30</th>\n",
       "      <th>amnt_loans30</th>\n",
       "      <th>maxamnt_loans30</th>\n",
       "      <th>medianamnt_loans30</th>\n",
       "      <th>cnt_loans90</th>\n",
       "      <th>amnt_loans90</th>\n",
       "      <th>maxamnt_loans90</th>\n",
       "      <th>medianamnt_loans90</th>\n",
       "      <th>payback30</th>\n",
       "      <th>payback90</th>\n",
       "    </tr>\n",
       "  </thead>\n",
       "  <tbody>\n",
       "    <tr>\n",
       "      <th>0</th>\n",
       "      <td>272.0</td>\n",
       "      <td>3055.050000</td>\n",
       "      <td>3065.150000</td>\n",
       "      <td>220.13</td>\n",
       "      <td>260.13</td>\n",
       "      <td>2.0</td>\n",
       "      <td>0.0</td>\n",
       "      <td>1539</td>\n",
       "      <td>2</td>\n",
       "      <td>21.0</td>\n",
       "      <td>3078.0</td>\n",
       "      <td>1539.0</td>\n",
       "      <td>7.50</td>\n",
       "      <td>2</td>\n",
       "      <td>21</td>\n",
       "      <td>3078</td>\n",
       "      <td>1539.0</td>\n",
       "      <td>7.50</td>\n",
       "      <td>0.0</td>\n",
       "      <td>0.0</td>\n",
       "      <td>0</td>\n",
       "      <td>0</td>\n",
       "      <td>2</td>\n",
       "      <td>12</td>\n",
       "      <td>6.0</td>\n",
       "      <td>0.0</td>\n",
       "      <td>2.0</td>\n",
       "      <td>12</td>\n",
       "      <td>6</td>\n",
       "      <td>0.0</td>\n",
       "      <td>29.000000</td>\n",
       "      <td>29.000000</td>\n",
       "    </tr>\n",
       "    <tr>\n",
       "      <th>1</th>\n",
       "      <td>712.0</td>\n",
       "      <td>12122.000000</td>\n",
       "      <td>12124.750000</td>\n",
       "      <td>3691.26</td>\n",
       "      <td>3691.26</td>\n",
       "      <td>20.0</td>\n",
       "      <td>0.0</td>\n",
       "      <td>5787</td>\n",
       "      <td>1</td>\n",
       "      <td>0.0</td>\n",
       "      <td>5787.0</td>\n",
       "      <td>5787.0</td>\n",
       "      <td>61.04</td>\n",
       "      <td>1</td>\n",
       "      <td>0</td>\n",
       "      <td>5787</td>\n",
       "      <td>5787.0</td>\n",
       "      <td>61.04</td>\n",
       "      <td>0.0</td>\n",
       "      <td>0.0</td>\n",
       "      <td>0</td>\n",
       "      <td>0</td>\n",
       "      <td>1</td>\n",
       "      <td>12</td>\n",
       "      <td>12.0</td>\n",
       "      <td>0.0</td>\n",
       "      <td>1.0</td>\n",
       "      <td>12</td>\n",
       "      <td>12</td>\n",
       "      <td>0.0</td>\n",
       "      <td>0.000000</td>\n",
       "      <td>0.000000</td>\n",
       "    </tr>\n",
       "    <tr>\n",
       "      <th>2</th>\n",
       "      <td>535.0</td>\n",
       "      <td>1398.000000</td>\n",
       "      <td>1398.000000</td>\n",
       "      <td>900.13</td>\n",
       "      <td>900.13</td>\n",
       "      <td>3.0</td>\n",
       "      <td>0.0</td>\n",
       "      <td>1539</td>\n",
       "      <td>1</td>\n",
       "      <td>0.0</td>\n",
       "      <td>1539.0</td>\n",
       "      <td>1539.0</td>\n",
       "      <td>66.32</td>\n",
       "      <td>1</td>\n",
       "      <td>0</td>\n",
       "      <td>1539</td>\n",
       "      <td>1539.0</td>\n",
       "      <td>66.32</td>\n",
       "      <td>0.0</td>\n",
       "      <td>0.0</td>\n",
       "      <td>0</td>\n",
       "      <td>0</td>\n",
       "      <td>1</td>\n",
       "      <td>6</td>\n",
       "      <td>6.0</td>\n",
       "      <td>0.0</td>\n",
       "      <td>1.0</td>\n",
       "      <td>6</td>\n",
       "      <td>6</td>\n",
       "      <td>0.0</td>\n",
       "      <td>0.000000</td>\n",
       "      <td>0.000000</td>\n",
       "    </tr>\n",
       "    <tr>\n",
       "      <th>3</th>\n",
       "      <td>241.0</td>\n",
       "      <td>21.228000</td>\n",
       "      <td>21.228000</td>\n",
       "      <td>159.42</td>\n",
       "      <td>159.42</td>\n",
       "      <td>41.0</td>\n",
       "      <td>0.0</td>\n",
       "      <td>947</td>\n",
       "      <td>0</td>\n",
       "      <td>0.0</td>\n",
       "      <td>0.0</td>\n",
       "      <td>0.0</td>\n",
       "      <td>0.00</td>\n",
       "      <td>1</td>\n",
       "      <td>0</td>\n",
       "      <td>947</td>\n",
       "      <td>947.0</td>\n",
       "      <td>2.50</td>\n",
       "      <td>0.0</td>\n",
       "      <td>0.0</td>\n",
       "      <td>0</td>\n",
       "      <td>0</td>\n",
       "      <td>2</td>\n",
       "      <td>12</td>\n",
       "      <td>6.0</td>\n",
       "      <td>0.0</td>\n",
       "      <td>2.0</td>\n",
       "      <td>12</td>\n",
       "      <td>6</td>\n",
       "      <td>0.0</td>\n",
       "      <td>0.000000</td>\n",
       "      <td>0.000000</td>\n",
       "    </tr>\n",
       "    <tr>\n",
       "      <th>4</th>\n",
       "      <td>947.0</td>\n",
       "      <td>150.619333</td>\n",
       "      <td>150.619333</td>\n",
       "      <td>1098.90</td>\n",
       "      <td>1098.90</td>\n",
       "      <td>4.0</td>\n",
       "      <td>0.0</td>\n",
       "      <td>2309</td>\n",
       "      <td>7</td>\n",
       "      <td>2.0</td>\n",
       "      <td>20029.0</td>\n",
       "      <td>2309.0</td>\n",
       "      <td>29.00</td>\n",
       "      <td>8</td>\n",
       "      <td>2</td>\n",
       "      <td>23496</td>\n",
       "      <td>2888.0</td>\n",
       "      <td>35.00</td>\n",
       "      <td>0.0</td>\n",
       "      <td>0.0</td>\n",
       "      <td>0</td>\n",
       "      <td>0</td>\n",
       "      <td>7</td>\n",
       "      <td>42</td>\n",
       "      <td>6.0</td>\n",
       "      <td>0.0</td>\n",
       "      <td>7.0</td>\n",
       "      <td>42</td>\n",
       "      <td>6</td>\n",
       "      <td>0.0</td>\n",
       "      <td>2.333333</td>\n",
       "      <td>2.333333</td>\n",
       "    </tr>\n",
       "    <tr>\n",
       "      <th>...</th>\n",
       "      <td>...</td>\n",
       "      <td>...</td>\n",
       "      <td>...</td>\n",
       "      <td>...</td>\n",
       "      <td>...</td>\n",
       "      <td>...</td>\n",
       "      <td>...</td>\n",
       "      <td>...</td>\n",
       "      <td>...</td>\n",
       "      <td>...</td>\n",
       "      <td>...</td>\n",
       "      <td>...</td>\n",
       "      <td>...</td>\n",
       "      <td>...</td>\n",
       "      <td>...</td>\n",
       "      <td>...</td>\n",
       "      <td>...</td>\n",
       "      <td>...</td>\n",
       "      <td>...</td>\n",
       "      <td>...</td>\n",
       "      <td>...</td>\n",
       "      <td>...</td>\n",
       "      <td>...</td>\n",
       "      <td>...</td>\n",
       "      <td>...</td>\n",
       "      <td>...</td>\n",
       "      <td>...</td>\n",
       "      <td>...</td>\n",
       "      <td>...</td>\n",
       "      <td>...</td>\n",
       "      <td>...</td>\n",
       "      <td>...</td>\n",
       "    </tr>\n",
       "    <tr>\n",
       "      <th>209588</th>\n",
       "      <td>404.0</td>\n",
       "      <td>151.872333</td>\n",
       "      <td>151.872333</td>\n",
       "      <td>1089.19</td>\n",
       "      <td>1089.19</td>\n",
       "      <td>1.0</td>\n",
       "      <td>0.0</td>\n",
       "      <td>4048</td>\n",
       "      <td>3</td>\n",
       "      <td>2.0</td>\n",
       "      <td>10404.0</td>\n",
       "      <td>3178.0</td>\n",
       "      <td>91.81</td>\n",
       "      <td>3</td>\n",
       "      <td>2</td>\n",
       "      <td>10404</td>\n",
       "      <td>3178.0</td>\n",
       "      <td>91.81</td>\n",
       "      <td>0.0</td>\n",
       "      <td>0.0</td>\n",
       "      <td>0</td>\n",
       "      <td>0</td>\n",
       "      <td>2</td>\n",
       "      <td>12</td>\n",
       "      <td>6.0</td>\n",
       "      <td>0.0</td>\n",
       "      <td>2.0</td>\n",
       "      <td>12</td>\n",
       "      <td>6</td>\n",
       "      <td>0.0</td>\n",
       "      <td>1.000000</td>\n",
       "      <td>1.000000</td>\n",
       "    </tr>\n",
       "    <tr>\n",
       "      <th>209589</th>\n",
       "      <td>1075.0</td>\n",
       "      <td>36.936000</td>\n",
       "      <td>36.936000</td>\n",
       "      <td>1728.36</td>\n",
       "      <td>1728.36</td>\n",
       "      <td>4.0</td>\n",
       "      <td>0.0</td>\n",
       "      <td>773</td>\n",
       "      <td>4</td>\n",
       "      <td>1.0</td>\n",
       "      <td>3092.0</td>\n",
       "      <td>773.0</td>\n",
       "      <td>161.30</td>\n",
       "      <td>6</td>\n",
       "      <td>2</td>\n",
       "      <td>4038</td>\n",
       "      <td>773.0</td>\n",
       "      <td>111.80</td>\n",
       "      <td>0.0</td>\n",
       "      <td>0.0</td>\n",
       "      <td>0</td>\n",
       "      <td>0</td>\n",
       "      <td>3</td>\n",
       "      <td>18</td>\n",
       "      <td>6.0</td>\n",
       "      <td>0.0</td>\n",
       "      <td>3.0</td>\n",
       "      <td>18</td>\n",
       "      <td>6</td>\n",
       "      <td>0.0</td>\n",
       "      <td>1.000000</td>\n",
       "      <td>1.000000</td>\n",
       "    </tr>\n",
       "    <tr>\n",
       "      <th>209590</th>\n",
       "      <td>1013.0</td>\n",
       "      <td>11843.111667</td>\n",
       "      <td>11904.350000</td>\n",
       "      <td>5861.83</td>\n",
       "      <td>8893.20</td>\n",
       "      <td>3.0</td>\n",
       "      <td>0.0</td>\n",
       "      <td>1539</td>\n",
       "      <td>5</td>\n",
       "      <td>8.0</td>\n",
       "      <td>9334.0</td>\n",
       "      <td>1539.0</td>\n",
       "      <td>51.13</td>\n",
       "      <td>11</td>\n",
       "      <td>5</td>\n",
       "      <td>18592</td>\n",
       "      <td>1539.0</td>\n",
       "      <td>47.13</td>\n",
       "      <td>0.0</td>\n",
       "      <td>0.0</td>\n",
       "      <td>0</td>\n",
       "      <td>0</td>\n",
       "      <td>4</td>\n",
       "      <td>42</td>\n",
       "      <td>12.0</td>\n",
       "      <td>0.0</td>\n",
       "      <td>6.0</td>\n",
       "      <td>54</td>\n",
       "      <td>12</td>\n",
       "      <td>0.0</td>\n",
       "      <td>4.000000</td>\n",
       "      <td>3.833333</td>\n",
       "    </tr>\n",
       "    <tr>\n",
       "      <th>209591</th>\n",
       "      <td>1732.0</td>\n",
       "      <td>12488.228333</td>\n",
       "      <td>12574.370000</td>\n",
       "      <td>411.83</td>\n",
       "      <td>984.58</td>\n",
       "      <td>2.0</td>\n",
       "      <td>38.0</td>\n",
       "      <td>773</td>\n",
       "      <td>5</td>\n",
       "      <td>4.0</td>\n",
       "      <td>12154.0</td>\n",
       "      <td>773.0</td>\n",
       "      <td>164.00</td>\n",
       "      <td>6</td>\n",
       "      <td>4</td>\n",
       "      <td>17941</td>\n",
       "      <td>2410.5</td>\n",
       "      <td>100.00</td>\n",
       "      <td>0.0</td>\n",
       "      <td>0.0</td>\n",
       "      <td>1</td>\n",
       "      <td>0</td>\n",
       "      <td>2</td>\n",
       "      <td>18</td>\n",
       "      <td>12.0</td>\n",
       "      <td>0.0</td>\n",
       "      <td>3.0</td>\n",
       "      <td>24</td>\n",
       "      <td>12</td>\n",
       "      <td>0.0</td>\n",
       "      <td>0.000000</td>\n",
       "      <td>10.500000</td>\n",
       "    </tr>\n",
       "    <tr>\n",
       "      <th>209592</th>\n",
       "      <td>1581.0</td>\n",
       "      <td>4489.362000</td>\n",
       "      <td>4534.820000</td>\n",
       "      <td>483.92</td>\n",
       "      <td>631.20</td>\n",
       "      <td>13.0</td>\n",
       "      <td>0.0</td>\n",
       "      <td>7526</td>\n",
       "      <td>2</td>\n",
       "      <td>1.0</td>\n",
       "      <td>9065.0</td>\n",
       "      <td>4532.5</td>\n",
       "      <td>356.70</td>\n",
       "      <td>3</td>\n",
       "      <td>19</td>\n",
       "      <td>16591</td>\n",
       "      <td>7526.0</td>\n",
       "      <td>392.20</td>\n",
       "      <td>0.0</td>\n",
       "      <td>0.0</td>\n",
       "      <td>0</td>\n",
       "      <td>0</td>\n",
       "      <td>2</td>\n",
       "      <td>18</td>\n",
       "      <td>12.0</td>\n",
       "      <td>0.0</td>\n",
       "      <td>2.0</td>\n",
       "      <td>18</td>\n",
       "      <td>12</td>\n",
       "      <td>0.0</td>\n",
       "      <td>0.000000</td>\n",
       "      <td>0.000000</td>\n",
       "    </tr>\n",
       "  </tbody>\n",
       "</table>\n",
       "<p>209593 rows × 32 columns</p>\n",
       "</div>"
      ],
      "text/plain": [
       "           aon  daily_decr30  ...  payback30  payback90\n",
       "0        272.0   3055.050000  ...  29.000000  29.000000\n",
       "1        712.0  12122.000000  ...   0.000000   0.000000\n",
       "2        535.0   1398.000000  ...   0.000000   0.000000\n",
       "3        241.0     21.228000  ...   0.000000   0.000000\n",
       "4        947.0    150.619333  ...   2.333333   2.333333\n",
       "...        ...           ...  ...        ...        ...\n",
       "209588   404.0    151.872333  ...   1.000000   1.000000\n",
       "209589  1075.0     36.936000  ...   1.000000   1.000000\n",
       "209590  1013.0  11843.111667  ...   4.000000   3.833333\n",
       "209591  1732.0  12488.228333  ...   0.000000  10.500000\n",
       "209592  1581.0   4489.362000  ...   0.000000   0.000000\n",
       "\n",
       "[209593 rows x 32 columns]"
      ]
     },
     "execution_count": 38,
     "metadata": {
      "tags": []
     },
     "output_type": "execute_result"
    }
   ],
   "source": [
    "x"
   ]
  },
  {
   "cell_type": "code",
   "execution_count": 39,
   "metadata": {
    "colab": {
     "base_uri": "https://localhost:8080/"
    },
    "executionInfo": {
     "elapsed": 21378,
     "status": "ok",
     "timestamp": 1619521512103,
     "user": {
      "displayName": "laxmikant deepak",
      "photoUrl": "",
      "userId": "06864753657209095717"
     },
     "user_tz": -330
    },
    "id": "ZC0wl6QlhGXt",
    "outputId": "e0e1c45e-a843-42b7-8f0d-89f91e98f828"
   },
   "outputs": [
    {
     "data": {
      "text/plain": [
       "0         0\n",
       "1         1\n",
       "2         1\n",
       "3         1\n",
       "4         1\n",
       "         ..\n",
       "209588    1\n",
       "209589    1\n",
       "209590    1\n",
       "209591    1\n",
       "209592    1\n",
       "Name: label, Length: 209593, dtype: int64"
      ]
     },
     "execution_count": 39,
     "metadata": {
      "tags": []
     },
     "output_type": "execute_result"
    }
   ],
   "source": [
    "y"
   ]
  },
  {
   "cell_type": "code",
   "execution_count": 40,
   "metadata": {
    "executionInfo": {
     "elapsed": 21365,
     "status": "ok",
     "timestamp": 1619521512105,
     "user": {
      "displayName": "laxmikant deepak",
      "photoUrl": "",
      "userId": "06864753657209095717"
     },
     "user_tz": -330
    },
    "id": "-AbQUqVI7EJl"
   },
   "outputs": [],
   "source": [
    "#x=x.columns.mean()"
   ]
  },
  {
   "cell_type": "code",
   "execution_count": 41,
   "metadata": {
    "colab": {
     "base_uri": "https://localhost:8080/"
    },
    "executionInfo": {
     "elapsed": 22187,
     "status": "ok",
     "timestamp": 1619521512942,
     "user": {
      "displayName": "laxmikant deepak",
      "photoUrl": "",
      "userId": "06864753657209095717"
     },
     "user_tz": -330
    },
    "id": "rVvhCMljhGXF",
    "outputId": "3efba75d-bcbf-4b96-b06d-8b0210e69c02",
    "scrolled": false
   },
   "outputs": [
    {
     "data": {
      "text/plain": [
       "aon                     -1.831560\n",
       "daily_decr30            -0.917894\n",
       "daily_decr90            -0.858466\n",
       "rental30                -2.898008\n",
       "rental90                -2.844925\n",
       "last_rech_date_ma        0.052928\n",
       "last_rech_date_da        8.425663\n",
       "last_rech_amt_ma        -2.308241\n",
       "cnt_ma_rech30           -0.566341\n",
       "fr_ma_rech30             0.624014\n",
       "sumamnt_ma_rech30       -1.787897\n",
       "medianamnt_ma_rech30    -0.540265\n",
       "medianmarechprebal30    -1.054665\n",
       "cnt_ma_rech90           -2.181918\n",
       "fr_ma_rech90            -0.619659\n",
       "sumamnt_ma_rech90       -2.025120\n",
       "medianamnt_ma_rech90    -0.507463\n",
       "medianmarechprebal90    -2.216165\n",
       "cnt_da_rech30           10.505368\n",
       "fr_da_rech30            13.433118\n",
       "cnt_da_rech90            6.051265\n",
       "fr_da_rech90            15.732839\n",
       "cnt_loans30             -4.297568\n",
       "amnt_loans30            -4.147393\n",
       "maxamnt_loans30          1.803890\n",
       "medianamnt_loans30       3.459656\n",
       "cnt_loans90             -0.152698\n",
       "amnt_loans90            -3.136986\n",
       "maxamnt_loans90         -3.698796\n",
       "medianamnt_loans90       3.791872\n",
       "payback30                0.095550\n",
       "payback90               -0.101941\n",
       "dtype: float64"
      ]
     },
     "execution_count": 41,
     "metadata": {
      "tags": []
     },
     "output_type": "execute_result"
    }
   ],
   "source": [
    "for i in x.columns:\n",
    "    if x[i].skew()>0.5:\n",
    "        x[i]=np.cbrt(x[i])\n",
    "    if x[i].skew()>-0.5:\n",
    "        x[i]=np.cbrt(x[i])\n",
    "        \n",
    "x.skew()"
   ]
  },
  {
   "cell_type": "code",
   "execution_count": 42,
   "metadata": {
    "executionInfo": {
     "elapsed": 22177,
     "status": "ok",
     "timestamp": 1619521512943,
     "user": {
      "displayName": "laxmikant deepak",
      "photoUrl": "",
      "userId": "06864753657209095717"
     },
     "user_tz": -330
    },
    "id": "ij_yF0G74Jxk"
   },
   "outputs": [],
   "source": [
    "def max_r2_score(rgr,x,y):\n",
    "    max_score=0\n",
    "    for r in range(42,101):\n",
    "        \n",
    "        x_train,x_test,y_train,y_test=train_test_split(x,y,test_size=.20,random_state=r)\n",
    "        rgr.fit(x_train,y_train)\n",
    "        pred=rgr.predict(x_test)\n",
    "        r_sc=r2_score(y_test,pred)\n",
    "        if r_sc>max_score:\n",
    "            max_score=r_sc\n",
    "            r_state=r\n",
    "            \n",
    "    print('max score at random_state of',r_state,'is',max_score)\n",
    "    return r_state"
   ]
  },
  {
   "cell_type": "markdown",
   "metadata": {},
   "source": [
    "## Machine Learning Model"
   ]
  },
  {
   "cell_type": "markdown",
   "metadata": {
    "executionInfo": {
     "elapsed": 22171,
     "status": "ok",
     "timestamp": 1619521512944,
     "user": {
      "displayName": "laxmikant deepak",
      "photoUrl": "",
      "userId": "06864753657209095717"
     },
     "user_tz": -330
    },
    "id": "T5We013uAz5J"
   },
   "source": [
    "### LinearRegression model"
   ]
  },
  {
   "cell_type": "code",
   "execution_count": 44,
   "metadata": {
    "executionInfo": {
     "elapsed": 22165,
     "status": "ok",
     "timestamp": 1619521512944,
     "user": {
      "displayName": "laxmikant deepak",
      "photoUrl": "",
      "userId": "06864753657209095717"
     },
     "user_tz": -330
    },
    "id": "CoGbz42F4W_g"
   },
   "outputs": [],
   "source": [
    "lr=LinearRegression()"
   ]
  },
  {
   "cell_type": "code",
   "execution_count": 45,
   "metadata": {
    "colab": {
     "base_uri": "https://localhost:8080/"
    },
    "executionInfo": {
     "elapsed": 38168,
     "status": "ok",
     "timestamp": 1619521528954,
     "user": {
      "displayName": "laxmikant deepak",
      "photoUrl": "",
      "userId": "06864753657209095717"
     },
     "user_tz": -330
    },
    "id": "k1a_1eZhA1Zm",
    "outputId": "efda75a2-e338-46a4-bc2b-9d569a94b95e"
   },
   "outputs": [
    {
     "name": "stdout",
     "output_type": "stream",
     "text": [
      "max score at random_state of 71 is 0.20504105472335532\n"
     ]
    }
   ],
   "source": [
    "sc=max_r2_score(lr,x,y)"
   ]
  },
  {
   "cell_type": "code",
   "execution_count": 46,
   "metadata": {
    "executionInfo": {
     "elapsed": 38160,
     "status": "ok",
     "timestamp": 1619521528956,
     "user": {
      "displayName": "laxmikant deepak",
      "photoUrl": "",
      "userId": "06864753657209095717"
     },
     "user_tz": -330
    },
    "id": "f8LeYGq2RN-U"
   },
   "outputs": [],
   "source": [
    "x_train,x_test,y_train,y_test=train_test_split(x,y,test_size=.20,random_state=42)\n",
    "lr.fit(x_train,y_train)\n",
    "pred=lr.predict(x_test)"
   ]
  },
  {
   "cell_type": "code",
   "execution_count": 47,
   "metadata": {
    "colab": {
     "base_uri": "https://localhost:8080/"
    },
    "executionInfo": {
     "elapsed": 38155,
     "status": "ok",
     "timestamp": 1619521528958,
     "user": {
      "displayName": "laxmikant deepak",
      "photoUrl": "",
      "userId": "06864753657209095717"
     },
     "user_tz": -330
    },
    "id": "GkgrWrRWSuqu",
    "outputId": "ef50bbbf-3d02-49de-d122-3de602108155"
   },
   "outputs": [
    {
     "name": "stdout",
     "output_type": "stream",
     "text": [
      "0.19715029545163087\n",
      "\n",
      "\n",
      "RMSE 0.29770918086420795\n"
     ]
    }
   ],
   "source": [
    "print(r2_score(y_test,pred))\n",
    "print('\\n')\n",
    "print('RMSE',np.sqrt(mean_squared_error(y_test,pred)))"
   ]
  },
  {
   "cell_type": "code",
   "execution_count": 48,
   "metadata": {
    "colab": {
     "base_uri": "https://localhost:8080/"
    },
    "executionInfo": {
     "elapsed": 38718,
     "status": "ok",
     "timestamp": 1619521529530,
     "user": {
      "displayName": "laxmikant deepak",
      "photoUrl": "",
      "userId": "06864753657209095717"
     },
     "user_tz": -330
    },
    "id": "dAAHfbO7Suyf",
    "outputId": "12dc84f0-6155-4bec-d19b-ddd2da1d12d8"
   },
   "outputs": [
    {
     "name": "stdout",
     "output_type": "stream",
     "text": [
      "[0.19965094 0.19078862 0.19533388 0.19523366 0.20030094]\n",
      "0.19626160899737366\n",
      "0.0034547006154714835\n"
     ]
    }
   ],
   "source": [
    "score=cross_val_score(lr,x,y,cv=5,scoring='r2')\n",
    "print(score)\n",
    "print(score.mean())\n",
    "print(score.std())"
   ]
  },
  {
   "cell_type": "code",
   "execution_count": 49,
   "metadata": {
    "executionInfo": {
     "elapsed": 40463,
     "status": "ok",
     "timestamp": 1619521531287,
     "user": {
      "displayName": "laxmikant deepak",
      "photoUrl": "",
      "userId": "06864753657209095717"
     },
     "user_tz": -330
    },
    "id": "2HFyZ5kVSu2s"
   },
   "outputs": [],
   "source": [
    "lr_score=r2_score(y_test,pred),cross_val_score(lr,x,y,cv=5).mean()"
   ]
  },
  {
   "cell_type": "markdown",
   "metadata": {
    "id": "jkLClsKFYSiD"
   },
   "source": [
    "### KNeighborsClassifier"
   ]
  },
  {
   "cell_type": "code",
   "execution_count": 50,
   "metadata": {
    "executionInfo": {
     "elapsed": 40458,
     "status": "ok",
     "timestamp": 1619521531288,
     "user": {
      "displayName": "laxmikant deepak",
      "photoUrl": "",
      "userId": "06864753657209095717"
     },
     "user_tz": -330
    },
    "id": "FfiZGxn7Su0S"
   },
   "outputs": [],
   "source": [
    "from sklearn.neighbors import KNeighborsClassifier\n",
    "knn=KNeighborsClassifier()"
   ]
  },
  {
   "cell_type": "code",
   "execution_count": 52,
   "metadata": {
    "executionInfo": {
     "elapsed": 76646,
     "status": "ok",
     "timestamp": 1619521763393,
     "user": {
      "displayName": "laxmikant deepak",
      "photoUrl": "",
      "userId": "06864753657209095717"
     },
     "user_tz": -330
    },
    "id": "EY9d7rwLSu6l"
   },
   "outputs": [],
   "source": [
    "x_train,x_test,y_train,y_test=train_test_split(x,y,test_size=.20,random_state=43)\n",
    "knn.fit(x_train,y_train)\n",
    "pred=knn.predict(x_test)"
   ]
  },
  {
   "cell_type": "code",
   "execution_count": 53,
   "metadata": {
    "colab": {
     "base_uri": "https://localhost:8080/"
    },
    "executionInfo": {
     "elapsed": 1163,
     "status": "ok",
     "timestamp": 1619521773923,
     "user": {
      "displayName": "laxmikant deepak",
      "photoUrl": "",
      "userId": "06864753657209095717"
     },
     "user_tz": -330
    },
    "id": "aPR2xKWzYoiZ",
    "outputId": "44c9a63d-34f0-4e47-af92-79982457b0b0"
   },
   "outputs": [
    {
     "name": "stdout",
     "output_type": "stream",
     "text": [
      "0.12385432445568012\n",
      "\n",
      "\n",
      "RMSE 0.30626777094208263\n"
     ]
    }
   ],
   "source": [
    "print(r2_score(y_test,pred))\n",
    "print('\\n')\n",
    "print('RMSE',np.sqrt(mean_squared_error(y_test,pred)))"
   ]
  },
  {
   "cell_type": "code",
   "execution_count": 54,
   "metadata": {
    "colab": {
     "base_uri": "https://localhost:8080/"
    },
    "executionInfo": {
     "elapsed": 383364,
     "status": "ok",
     "timestamp": 1619522162295,
     "user": {
      "displayName": "laxmikant deepak",
      "photoUrl": "",
      "userId": "06864753657209095717"
     },
     "user_tz": -330
    },
    "id": "JWZofgKUYok2",
    "outputId": "d43a9bb2-d208-468a-b09e-608c33a5ed40"
   },
   "outputs": [
    {
     "name": "stdout",
     "output_type": "stream",
     "text": [
      "[0.11414054 0.10431464 0.09412197 0.1303716  0.11508432]\n",
      "0.11160661608070555\n",
      "0.012079119489993306\n"
     ]
    }
   ],
   "source": [
    "score=cross_val_score(knn,x,y,cv=5,scoring='r2')\n",
    "print(score)\n",
    "print(score.mean())\n",
    "print(score.std())"
   ]
  },
  {
   "cell_type": "code",
   "execution_count": 55,
   "metadata": {
    "executionInfo": {
     "elapsed": 391920,
     "status": "ok",
     "timestamp": 1619522554235,
     "user": {
      "displayName": "laxmikant deepak",
      "photoUrl": "",
      "userId": "06864753657209095717"
     },
     "user_tz": -330
    },
    "id": "nSNGV7_UYomz"
   },
   "outputs": [],
   "source": [
    "knn_score=r2_score(y_test,pred),cross_val_score(knn,x,y,cv=5).mean()"
   ]
  },
  {
   "cell_type": "code",
   "execution_count": 56,
   "metadata": {
    "colab": {
     "base_uri": "https://localhost:8080/"
    },
    "executionInfo": {
     "elapsed": 979,
     "status": "ok",
     "timestamp": 1619522603384,
     "user": {
      "displayName": "laxmikant deepak",
      "photoUrl": "",
      "userId": "06864753657209095717"
     },
     "user_tz": -330
    },
    "id": "lI-3rtBmYooq",
    "outputId": "7b59f10b-1504-476a-9a52-59a8823e2eb0"
   },
   "outputs": [
    {
     "data": {
      "text/plain": [
       "(0.12385432445568012, 0.9029500147431598)"
      ]
     },
     "execution_count": 56,
     "metadata": {
      "tags": []
     },
     "output_type": "execute_result"
    }
   ],
   "source": [
    "knn_score"
   ]
  },
  {
   "cell_type": "markdown",
   "metadata": {
    "executionInfo": {
     "elapsed": 190870,
     "status": "aborted",
     "timestamp": 1619521681752,
     "user": {
      "displayName": "laxmikant deepak",
      "photoUrl": "",
      "userId": "06864753657209095717"
     },
     "user_tz": -330
    },
    "id": "6cVnk6LyYorU"
   },
   "source": [
    "### AdaBoostClassifier"
   ]
  },
  {
   "cell_type": "code",
   "execution_count": 57,
   "metadata": {
    "executionInfo": {
     "elapsed": 1407,
     "status": "ok",
     "timestamp": 1619525591648,
     "user": {
      "displayName": "laxmikant deepak",
      "photoUrl": "",
      "userId": "06864753657209095717"
     },
     "user_tz": -330
    },
    "id": "9I2KBxnzYouV"
   },
   "outputs": [],
   "source": [
    "add=AdaBoostClassifier()"
   ]
  },
  {
   "cell_type": "code",
   "execution_count": 58,
   "metadata": {
    "executionInfo": {
     "elapsed": 17487,
     "status": "ok",
     "timestamp": 1619525631881,
     "user": {
      "displayName": "laxmikant deepak",
      "photoUrl": "",
      "userId": "06864753657209095717"
     },
     "user_tz": -330
    },
    "id": "avU0w42gYoyh"
   },
   "outputs": [],
   "source": [
    "x_train,x_test,y_train,y_test=train_test_split(x,y,test_size=.20,random_state=43)\n",
    "add.fit(x_train,y_train)\n",
    "pred=add.predict(x_test)"
   ]
  },
  {
   "cell_type": "code",
   "execution_count": 59,
   "metadata": {
    "colab": {
     "base_uri": "https://localhost:8080/"
    },
    "executionInfo": {
     "elapsed": 1283,
     "status": "ok",
     "timestamp": 1619525671597,
     "user": {
      "displayName": "laxmikant deepak",
      "photoUrl": "",
      "userId": "06864753657209095717"
     },
     "user_tz": -330
    },
    "id": "hsWzvpIRPsAH",
    "outputId": "b97a20a5-4e87-4392-f91d-d803f82f2077"
   },
   "outputs": [
    {
     "name": "stdout",
     "output_type": "stream",
     "text": [
      "0.13276730182642593\n",
      "\n",
      "\n",
      "RMSE 0.3047059669281821\n"
     ]
    }
   ],
   "source": [
    "print(r2_score(y_test,pred))\n",
    "print('\\n')\n",
    "print('RMSE',np.sqrt(mean_squared_error(y_test,pred)))"
   ]
  },
  {
   "cell_type": "code",
   "execution_count": 61,
   "metadata": {
    "colab": {
     "base_uri": "https://localhost:8080/"
    },
    "executionInfo": {
     "elapsed": 82349,
     "status": "ok",
     "timestamp": 1619525850031,
     "user": {
      "displayName": "laxmikant deepak",
      "photoUrl": "",
      "userId": "06864753657209095717"
     },
     "user_tz": -330
    },
    "id": "fig_TgkzPsCq",
    "outputId": "3c672663-5d60-4cea-a5d1-98aed6f01860"
   },
   "outputs": [
    {
     "name": "stdout",
     "output_type": "stream",
     "text": [
      "[0.12877022 0.11392219 0.11486894 0.11683143 0.11901533]\n",
      "0.11868162236725932\n",
      "0.005338596692547174\n"
     ]
    }
   ],
   "source": [
    "score=cross_val_score(add,x,y,cv=5,scoring='r2')\n",
    "print(score)\n",
    "print(score.mean())\n",
    "print(score.std())"
   ]
  },
  {
   "cell_type": "code",
   "execution_count": 63,
   "metadata": {
    "executionInfo": {
     "elapsed": 81572,
     "status": "ok",
     "timestamp": 1619526139260,
     "user": {
      "displayName": "laxmikant deepak",
      "photoUrl": "",
      "userId": "06864753657209095717"
     },
     "user_tz": -330
    },
    "id": "6fJWvOo1PsEr"
   },
   "outputs": [],
   "source": [
    "add_score=r2_score(y_test,pred),cross_val_score(add,x,y,cv=5).mean()"
   ]
  },
  {
   "cell_type": "code",
   "execution_count": 64,
   "metadata": {
    "colab": {
     "base_uri": "https://localhost:8080/"
    },
    "executionInfo": {
     "elapsed": 79670,
     "status": "ok",
     "timestamp": 1619526139267,
     "user": {
      "displayName": "laxmikant deepak",
      "photoUrl": "",
      "userId": "06864753657209095717"
     },
     "user_tz": -330
    },
    "id": "ZMPghbaYPsHq",
    "outputId": "26415410-3689-4861-a3b1-bef0b0bf2c94"
   },
   "outputs": [
    {
     "data": {
      "text/plain": [
       "(0.13276730182642593, 0.903722928936397)"
      ]
     },
     "execution_count": 64,
     "metadata": {
      "tags": []
     },
     "output_type": "execute_result"
    }
   ],
   "source": [
    "add_score"
   ]
  },
  {
   "cell_type": "markdown",
   "metadata": {
    "executionInfo": {
     "elapsed": 190844,
     "status": "aborted",
     "timestamp": 1619521681755,
     "user": {
      "displayName": "laxmikant deepak",
      "photoUrl": "",
      "userId": "06864753657209095717"
     },
     "user_tz": -330
    },
    "id": "0wHY5jNVYo0v"
   },
   "source": [
    "### GaussianNB"
   ]
  },
  {
   "cell_type": "code",
   "execution_count": 65,
   "metadata": {
    "executionInfo": {
     "elapsed": 76087,
     "status": "ok",
     "timestamp": 1619526139267,
     "user": {
      "displayName": "laxmikant deepak",
      "photoUrl": "",
      "userId": "06864753657209095717"
     },
     "user_tz": -330
    },
    "id": "qiqGNXlOYowc"
   },
   "outputs": [],
   "source": [
    "gb=GaussianNB()"
   ]
  },
  {
   "cell_type": "code",
   "execution_count": 66,
   "metadata": {
    "executionInfo": {
     "elapsed": 70836,
     "status": "ok",
     "timestamp": 1619526139268,
     "user": {
      "displayName": "laxmikant deepak",
      "photoUrl": "",
      "userId": "06864753657209095717"
     },
     "user_tz": -330
    },
    "id": "CcQaA_gwYo6b"
   },
   "outputs": [],
   "source": [
    "x_train,x_test,y_train,y_test=train_test_split(x,y,test_size=.20,random_state=43)\n",
    "gb.fit(x_train,y_train)\n",
    "pred=gb.predict(x_test)"
   ]
  },
  {
   "cell_type": "code",
   "execution_count": 67,
   "metadata": {
    "colab": {
     "base_uri": "https://localhost:8080/"
    },
    "executionInfo": {
     "elapsed": 66433,
     "status": "ok",
     "timestamp": 1619526139269,
     "user": {
      "displayName": "laxmikant deepak",
      "photoUrl": "",
      "userId": "06864753657209095717"
     },
     "user_tz": -330
    },
    "id": "8O1yPV7BRPrV",
    "outputId": "5d35d416-7446-49f1-ff3f-2a347967c593"
   },
   "outputs": [
    {
     "name": "stdout",
     "output_type": "stream",
     "text": [
      "-0.8626829867458776\n",
      "\n",
      "\n",
      "RMSE 0.450963857713413\n"
     ]
    }
   ],
   "source": [
    "print(r2_score(y_test,pred))\n",
    "print('\\n')\n",
    "print('RMSE',np.sqrt(mean_squared_error(y_test,pred)))"
   ]
  },
  {
   "cell_type": "code",
   "execution_count": 68,
   "metadata": {
    "colab": {
     "base_uri": "https://localhost:8080/"
    },
    "executionInfo": {
     "elapsed": 65291,
     "status": "ok",
     "timestamp": 1619526141146,
     "user": {
      "displayName": "laxmikant deepak",
      "photoUrl": "",
      "userId": "06864753657209095717"
     },
     "user_tz": -330
    },
    "id": "N6tJA7_rRQy6",
    "outputId": "9a17bea1-3b12-45f4-af77-6166e4f00c27"
   },
   "outputs": [
    {
     "name": "stdout",
     "output_type": "stream",
     "text": [
      "[-0.83853503 -0.86430072 -0.85084771 -0.83294604 -0.83316443]\n",
      "-0.8439587849638588\n",
      "0.012070356749081393\n"
     ]
    }
   ],
   "source": [
    "score=cross_val_score(gb,x,y,cv=5,scoring='r2')\n",
    "print(score)\n",
    "print(score.mean())\n",
    "print(score.std())"
   ]
  },
  {
   "cell_type": "code",
   "execution_count": 69,
   "metadata": {
    "executionInfo": {
     "elapsed": 2568,
     "status": "ok",
     "timestamp": 1619526143716,
     "user": {
      "displayName": "laxmikant deepak",
      "photoUrl": "",
      "userId": "06864753657209095717"
     },
     "user_tz": -330
    },
    "id": "s1xSIabJRQvx"
   },
   "outputs": [],
   "source": [
    "gb_score=r2_score(y_test,pred),cross_val_score(gb,x,y,cv=5).mean()"
   ]
  },
  {
   "cell_type": "code",
   "execution_count": 70,
   "metadata": {
    "colab": {
     "base_uri": "https://localhost:8080/"
    },
    "executionInfo": {
     "elapsed": 984,
     "status": "ok",
     "timestamp": 1619526158280,
     "user": {
      "displayName": "laxmikant deepak",
      "photoUrl": "",
      "userId": "06864753657209095717"
     },
     "user_tz": -330
    },
    "id": "5SqHiknPRQiN",
    "outputId": "429adceb-4f30-4209-f2b4-f47429281be7"
   },
   "outputs": [
    {
     "data": {
      "text/plain": [
       "(-0.8626829867458776, 0.7985619863434205)"
      ]
     },
     "execution_count": 70,
     "metadata": {
      "tags": []
     },
     "output_type": "execute_result"
    }
   ],
   "source": [
    "gb_score"
   ]
  },
  {
   "cell_type": "markdown",
   "metadata": {
    "id": "xKhExStKU5WA"
   },
   "source": [
    "Model Selection"
   ]
  },
  {
   "cell_type": "code",
   "execution_count": 82,
   "metadata": {
    "executionInfo": {
     "elapsed": 1220,
     "status": "ok",
     "timestamp": 1619526941399,
     "user": {
      "displayName": "laxmikant deepak",
      "photoUrl": "",
      "userId": "06864753657209095717"
     },
     "user_tz": -330
    },
    "id": "2TPT_VWIRQfA"
   },
   "outputs": [],
   "source": [
    "data={'linear':lr_score,'kneighbors':knn_score,'GradientBoostingRegressor':gb_score,'AdaBoost':add_score}"
   ]
  },
  {
   "cell_type": "code",
   "execution_count": 83,
   "metadata": {
    "executionInfo": {
     "elapsed": 1784,
     "status": "ok",
     "timestamp": 1619526943571,
     "user": {
      "displayName": "laxmikant deepak",
      "photoUrl": "",
      "userId": "06864753657209095717"
     },
     "user_tz": -330
    },
    "id": "r0iVNd1WSvOF"
   },
   "outputs": [],
   "source": [
    "selection=pd.DataFrame(data,index=['r2_score','cross_val_score'])"
   ]
  },
  {
   "cell_type": "code",
   "execution_count": 84,
   "metadata": {
    "colab": {
     "base_uri": "https://localhost:8080/",
     "height": 111
    },
    "executionInfo": {
     "elapsed": 972,
     "status": "ok",
     "timestamp": 1619526943939,
     "user": {
      "displayName": "laxmikant deepak",
      "photoUrl": "",
      "userId": "06864753657209095717"
     },
     "user_tz": -330
    },
    "id": "EkLW4kQlSwgN",
    "outputId": "d22d8b53-e62c-4489-f013-211f3347954c"
   },
   "outputs": [
    {
     "data": {
      "text/html": [
       "<div>\n",
       "<style scoped>\n",
       "    .dataframe tbody tr th:only-of-type {\n",
       "        vertical-align: middle;\n",
       "    }\n",
       "\n",
       "    .dataframe tbody tr th {\n",
       "        vertical-align: top;\n",
       "    }\n",
       "\n",
       "    .dataframe thead th {\n",
       "        text-align: right;\n",
       "    }\n",
       "</style>\n",
       "<table border=\"1\" class=\"dataframe\">\n",
       "  <thead>\n",
       "    <tr style=\"text-align: right;\">\n",
       "      <th></th>\n",
       "      <th>linear</th>\n",
       "      <th>kneighbors</th>\n",
       "      <th>GradientBoostingRegressor</th>\n",
       "      <th>AdaBoost</th>\n",
       "    </tr>\n",
       "  </thead>\n",
       "  <tbody>\n",
       "    <tr>\n",
       "      <th>r2_score</th>\n",
       "      <td>0.197150</td>\n",
       "      <td>0.123854</td>\n",
       "      <td>-0.862683</td>\n",
       "      <td>0.132767</td>\n",
       "    </tr>\n",
       "    <tr>\n",
       "      <th>cross_val_score</th>\n",
       "      <td>0.196262</td>\n",
       "      <td>0.902950</td>\n",
       "      <td>0.798562</td>\n",
       "      <td>0.903723</td>\n",
       "    </tr>\n",
       "  </tbody>\n",
       "</table>\n",
       "</div>"
      ],
      "text/plain": [
       "                   linear  kneighbors  GradientBoostingRegressor  AdaBoost\n",
       "r2_score         0.197150    0.123854                  -0.862683  0.132767\n",
       "cross_val_score  0.196262    0.902950                   0.798562  0.903723"
      ]
     },
     "execution_count": 84,
     "metadata": {
      "tags": []
     },
     "output_type": "execute_result"
    }
   ],
   "source": [
    "selection"
   ]
  },
  {
   "cell_type": "markdown",
   "metadata": {
    "id": "5UHEUVZOVNMU"
   },
   "source": [
    "model select from joblib library"
   ]
  },
  {
   "cell_type": "code",
   "execution_count": 85,
   "metadata": {
    "executionInfo": {
     "elapsed": 1395,
     "status": "ok",
     "timestamp": 1619527139341,
     "user": {
      "displayName": "laxmikant deepak",
      "photoUrl": "",
      "userId": "06864753657209095717"
     },
     "user_tz": -330
    },
    "id": "A3JCksUuSwdP"
   },
   "outputs": [],
   "source": [
    "from sklearn.externals import joblib"
   ]
  },
  {
   "cell_type": "code",
   "execution_count": 86,
   "metadata": {
    "colab": {
     "base_uri": "https://localhost:8080/"
    },
    "executionInfo": {
     "elapsed": 2040,
     "status": "ok",
     "timestamp": 1619527141861,
     "user": {
      "displayName": "laxmikant deepak",
      "photoUrl": "",
      "userId": "06864753657209095717"
     },
     "user_tz": -330
    },
    "id": "FDs_bk6kVaXU",
    "outputId": "0c2146e3-f4de-47f4-ec85-d436f63889c4"
   },
   "outputs": [
    {
     "data": {
      "text/plain": [
       "['Micro Credit Loan_dataset.obj']"
      ]
     },
     "execution_count": 86,
     "metadata": {
      "tags": []
     },
     "output_type": "execute_result"
    }
   ],
   "source": [
    "joblib.dump(add,'Micro Credit Loan_dataset.obj')"
   ]
  }
 ],
 "metadata": {
  "colab": {
   "collapsed_sections": [],
   "name": "Micro Credit Loan.ipynb",
   "provenance": []
  },
  "kernelspec": {
   "display_name": "Python 3",
   "language": "python",
   "name": "python3"
  },
  "language_info": {
   "codemirror_mode": {
    "name": "ipython",
    "version": 3
   },
   "file_extension": ".py",
   "mimetype": "text/x-python",
   "name": "python",
   "nbconvert_exporter": "python",
   "pygments_lexer": "ipython3",
   "version": "3.8.5"
  }
 },
 "nbformat": 4,
 "nbformat_minor": 1
}
